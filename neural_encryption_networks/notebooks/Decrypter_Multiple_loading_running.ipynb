{
  "nbformat": 4,
  "nbformat_minor": 0,
  "metadata": {
    "colab": {
      "name": "Decrypter_Multiple_loading_running.ipynb",
      "provenance": [],
      "collapsed_sections": []
    },
    "kernelspec": {
      "name": "python3",
      "display_name": "Python 3"
    },
    "accelerator": "GPU"
  },
  "cells": [
    {
      "cell_type": "code",
      "metadata": {
        "id": "_nitYIN6OgQm"
      },
      "source": [
        "from keras import Sequential\n",
        "from keras.models import load_model\n",
        "from keras.models import model_from_json\n",
        "import numpy as np"
      ],
      "execution_count": null,
      "outputs": []
    },
    {
      "cell_type": "code",
      "metadata": {
        "id": "N86tyj266R3-"
      },
      "source": [
        "import warnings\n",
        "warnings.filterwarnings('ignore')"
      ],
      "execution_count": null,
      "outputs": []
    },
    {
      "cell_type": "code",
      "metadata": {
        "id": "42-FGlV9ezAb"
      },
      "source": [
        "def change_output(arr):\n",
        "    '''' Rounding off the confident outputs '''\n",
        "    row=arr.shape[0]\n",
        "    col=arr.shape[1]\n",
        "    for i in range(row):\n",
        "      for j in range(col):\n",
        "        if(arr[i][j]>0.5):\n",
        "          arr[i][j]=1\n",
        "        else:\n",
        "          arr[i][j]=0\n",
        "          \n",
        "    arr.astype('int')\n",
        "    return(arr)    "
      ],
      "execution_count": null,
      "outputs": []
    },
    {
      "cell_type": "code",
      "metadata": {
        "id": "4MEjaN2pO5z9",
        "colab": {
          "base_uri": "https://localhost:8080/"
        },
        "outputId": "ef10d8db-d664-43fb-aba9-85c04f2ba08e"
      },
      "source": [
        "# load json and create model\n",
        "json_file = open('/content/decrypter_v1_2_3.json', 'r')\n",
        "loaded_model_json = json_file.read()\n",
        "json_file.close()\n",
        "\n",
        "loaded_19bit_decrypter = model_from_json(loaded_model_json)\n",
        "# load weights into new model\n",
        "loaded_19bit_decrypter.load_weights(\"/content/decrypter_v1_2_3.h5\")\n",
        "print(\"Loaded model from disk\")"
      ],
      "execution_count": null,
      "outputs": [
        {
          "output_type": "stream",
          "text": [
            "Loaded model from disk\n"
          ],
          "name": "stdout"
        }
      ]
    },
    {
      "cell_type": "code",
      "metadata": {
        "id": "0zSw60_y7XAd",
        "colab": {
          "base_uri": "https://localhost:8080/"
        },
        "outputId": "fe7865f4-4a34-4f3c-cda8-3bcf064e7eff"
      },
      "source": [
        "# load json and create model\n",
        "json_file = open('/content/decrypter_v1_2_1.json', 'r')\n",
        "loaded_model_json = json_file.read()\n",
        "json_file.close()\n",
        "\n",
        "loaded_32bit_decrypter = model_from_json(loaded_model_json)\n",
        "# load weights into new model\n",
        "loaded_32bit_decrypter.load_weights(\"/content/decrypter_v1_2_1.h5\")\n",
        "print(\"Loaded model from disk\")"
      ],
      "execution_count": null,
      "outputs": [
        {
          "output_type": "stream",
          "text": [
            "Loaded model from disk\n"
          ],
          "name": "stdout"
        }
      ]
    },
    {
      "cell_type": "code",
      "metadata": {
        "id": "XPyLfS489BDh"
      },
      "source": [
        "nets = [loaded_32bit_decrypter, loaded_19bit_decrypter]"
      ],
      "execution_count": null,
      "outputs": []
    },
    {
      "cell_type": "code",
      "metadata": {
        "id": "I0RQecXS1emx"
      },
      "source": [
        "# net_list = np.load('net_list.npy')\n",
        "# print(net_list)"
      ],
      "execution_count": null,
      "outputs": []
    },
    {
      "cell_type": "code",
      "metadata": {
        "id": "9a05zLztEh_W"
      },
      "source": [
        "def decrypt_oh(oh_dec):\n",
        "    tst = ''\n",
        "    for i in oh_dec:\n",
        "        pos = int((np.where(i == 1)[0][0]))\n",
        "        pos += 32\n",
        "        tst += chr(pos)\n",
        "    return(tst)  "
      ],
      "execution_count": null,
      "outputs": []
    },
    {
      "cell_type": "code",
      "metadata": {
        "id": "Bxde0ak67sN3"
      },
      "source": [
        "# dec_count = 0\n",
        "# with open('multisave.npy','rb') as f:\n",
        "#     tst = ''\n",
        "#     while(dec_count < len(net_list)):\n",
        "#         arr = np.load(f)\n",
        "#         # print(arr)\n",
        "#         # print(net_list[dec_count])\n",
        "#         out = nets[net_list[dec_count]].predict(arr)\n",
        "#         out = change_output(out)\n",
        "#         # print(out)\n",
        "#         tst += decrypt_oh(out)\n",
        "#     # print(net_list[dec_count])\n",
        "#     # out = nets\n",
        "#     # decrypted = decrypt_net.predict(arr)\n",
        "#     # print(decrypt_out)\n",
        "#     # print(decrypted)\n",
        "#         dec_count += 1\n",
        "# print(tst)"
      ],
      "execution_count": null,
      "outputs": []
    },
    {
      "cell_type": "code",
      "metadata": {
        "id": "In-g6IP27-LZ"
      },
      "source": [
        "def decrypt_file(file, net_list):\n",
        "    net_list = np.load(net_list)\n",
        "    dec_count = 0\n",
        "    with open(file,'rb') as f:\n",
        "        tst = ''\n",
        "        while(dec_count < len(net_list)):\n",
        "            arr = np.load(f)\n",
        "            # print(arr)\n",
        "            # print(net_list[dec_count])\n",
        "            out = nets[net_list[dec_count]].predict(arr)\n",
        "            out = change_output(out)\n",
        "            # print(out)\n",
        "            tst += decrypt_oh(out)\n",
        "        # print(net_list[dec_count])\n",
        "        # out = nets\n",
        "        # decrypted = decrypt_net.predict(arr)\n",
        "        # print(decrypt_out)\n",
        "        # print(decrypted)\n",
        "            dec_count += 1\n",
        "    # print(tst)\n",
        "    return(tst)"
      ],
      "execution_count": null,
      "outputs": []
    },
    {
      "cell_type": "code",
      "metadata": {
        "id": "7s6t0WQWG8Ee"
      },
      "source": [
        "decrypted = decrypt_file('/content/multisave.npy', '/content/net_list.npy')"
      ],
      "execution_count": null,
      "outputs": []
    },
    {
      "cell_type": "code",
      "metadata": {
        "id": "815vYI2xHaGS",
        "colab": {
          "base_uri": "https://localhost:8080/"
        },
        "outputId": "234830fb-ed73-4c5e-c301-ea5f96bfa27e"
      },
      "source": [
        "print(decrypted)"
      ],
      "execution_count": null,
      "outputs": [
        {
          "output_type": "stream",
          "text": [
            "abcd\n"
          ],
          "name": "stdout"
        }
      ]
    },
    {
      "cell_type": "code",
      "metadata": {
        "id": "E1dsdwz9Iqek"
      },
      "source": [
        ""
      ],
      "execution_count": null,
      "outputs": []
    }
  ]
}