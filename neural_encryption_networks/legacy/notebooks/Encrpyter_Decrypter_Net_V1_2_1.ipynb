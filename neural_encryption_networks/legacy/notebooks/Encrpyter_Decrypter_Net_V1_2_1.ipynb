{
  "nbformat": 4,
  "nbformat_minor": 0,
  "metadata": {
    "colab": {
      "name": "Encrpyter_Decrypter_Net_V1_2_1.ipynb",
      "provenance": []
    },
    "kernelspec": {
      "name": "python3",
      "display_name": "Python 3"
    },
    "accelerator": "GPU"
  },
  "cells": [
    {
      "cell_type": "code",
      "metadata": {
        "id": "hfntcH0W00ee"
      },
      "source": [
        "from keras import Sequential\n",
        "from keras import layers\n",
        "from keras import optimizers\n",
        "\n",
        "from keras.callbacks import ModelCheckpoint\n",
        "from keras.callbacks import ReduceLROnPlateau"
      ],
      "execution_count": null,
      "outputs": []
    },
    {
      "cell_type": "code",
      "metadata": {
        "id": "MlM85BbVUrv7"
      },
      "source": [
        "from tqdm import tqdm_notebook"
      ],
      "execution_count": null,
      "outputs": []
    },
    {
      "cell_type": "code",
      "metadata": {
        "id": "_RzqcZFA_tm3"
      },
      "source": [
        "from keras.models import model_from_json"
      ],
      "execution_count": null,
      "outputs": []
    },
    {
      "cell_type": "code",
      "metadata": {
        "id": "La699KWSPsME"
      },
      "source": [
        "import numpy as np\n",
        "from sklearn.metrics import accuracy_score\n",
        "import string"
      ],
      "execution_count": null,
      "outputs": []
    },
    {
      "cell_type": "code",
      "metadata": {
        "id": "klol-OGDPsMK"
      },
      "source": [
        "def create_labels(paragraph, hashmap):\n",
        "    # paragraph = paragraph.lower()\n",
        "    output = []\n",
        "    for i in paragraph:\n",
        "        output.append(list(map(int,str(hashmap[i]))))\n",
        "    \n",
        "    return np.array(output)\n"
      ],
      "execution_count": null,
      "outputs": []
    },
    {
      "cell_type": "code",
      "metadata": {
        "id": "1jPmeBAc9dD-"
      },
      "source": [
        "import warnings\n",
        "warnings.filterwarnings('ignore')"
      ],
      "execution_count": null,
      "outputs": []
    },
    {
      "cell_type": "code",
      "metadata": {
        "id": "5DyLy5GF7lnD"
      },
      "source": [
        "import numpy as np\n",
        "from sklearn.metrics import accuracy_score\n",
        "import string"
      ],
      "execution_count": null,
      "outputs": []
    },
    {
      "cell_type": "code",
      "metadata": {
        "id": "GrY57mTsbIaw"
      },
      "source": [
        "def create_labels(paragraph, hashmap):\n",
        "    # paragraph = paragraph.lower()\n",
        "    output = []\n",
        "    for i in paragraph:\n",
        "        output.append(list(map(int,str(hashmap[i]))))\n",
        "    \n",
        "    return np.array(output)\n"
      ],
      "execution_count": null,
      "outputs": []
    },
    {
      "cell_type": "code",
      "metadata": {
        "id": "itrWMHP4Um05"
      },
      "source": [
        "hashmap = {'*': 10010110010001000111111110111010,\n",
        " \"'\": 10000111011101111001010000110101,\n",
        " 'J': 10110100100011001110110010000110,\n",
        " 'k': 10011011110111110110011110000011,\n",
        " ' ': 10001010001010001110011010011011, 'b': 11010101011000001010100110100010, '.': 10011000101001001000111111110111,\n",
        " '_': 10011111000010011000000011110000, 'l': 11011001011010000010011010111011, 'Q': 11111100101110101001100111111010,\n",
        " 'z': 10010100000111001111110111101110, 'H': 11110101001000101000001000110010, '=': 11000001000011110100010101101000,\n",
        " '\"': 10110000010110100111000111111001, ':': 10101111111000010010111001110110, 'O': 11000001001010110110100111101100,\n",
        " '?': 11110000100101111011110100000000, 'T': 11010110111000110111001110010101, '-': 11110110101001111110000110101001,\n",
        " 'c': 10010001011010000100100100110001, 'R': 11010110011001010101000110010000, '6': 10001111000101000101100100010000, '\\\\': 11110101011001100110011011000010, 'j': 11101111111100101100010100000100, 'm': 11101100000110110010000100100110, 'd': 10111001100100010110110110001110, '8': 11111011000101001100010000010100, 'A': 10001100010111011100001110000001, '^': 11011011001000010100100000001010, ';': 11101000111111100011010100110000, '<': 10100011010001011001001010000010, 'F': 10001011100011010000011101111101, 'x': 10111001010011110101001000010101, '`': 10111000100110010110111111100000, 'h': 10011100100010010011111011111000, 'M': 11001110011010001100101011101011, 'B': 10011110010000000001110001011000, '>': 11001100100001000111010001111001, '%': 10010000001001001110000000011111, '@': 10001100000001000010000101000110, 'U': 10011001011101001100011011111101, 's': 11110011001011001010101011010010, 'w': 10111100100101010111010010111001, '0': 11011010100110000000001010100111, 'q': 11111111100111110100110001110100, 'I': 11100000110011111001000000111010, '/': 11011001010000100001101110000001, 'i': 10110010001110100111110001011100, 'N': 11110001011101000100001001001110, '(': 11001011010001101101100111100001, ',': 10000100000011100011000110100111, '5': 10111111001011101000101101010110, 'E': 10010100011010011111000110101000, '4': 11001111011110000101010000010001, 't': 10111110010111100011000111000100, 'f': 10110100100110010010000100110110, 'g': 10111000010110011011110011101110, 'v': 10101100100110000110111010100010, 'p': 11111001111111001111011101111001, ']': 10010010001111001010101010101101, '3': 10000000001010010001101011110000, '&': 10000000001000000101111101010010, 'u': 11101100100011110010000111000101, 'o': 11111000011101101101000010101010, 'r': 10100101101011111100001001110100, 'X': 10101111110010101011101111110101, 'C': 11000110011011101001000111000000, 'Y': 11000110111110110101101110101011, '7': 11110110010111011000011011000100, '!': 11001100000000101001011111110001, '2': 10101101011110000001110011101000, '+': 10111001010110100110001111000010, '$': 11110100011011100001000010001001, '1': 11101000011001000000101010100011, 'a': 11100110010011110110101011011100, '#': 10110011011011001100000110010100, 'e': 10000010111100000101010011111001, '[': 10000010110110111011110010111000, 'D': 10000100100111111101000000110110, 'S': 10101011110110001111011011101111, 'G': 11100110010111111010111110000011, 'y': 10001111010011010000110000011110, 'L': 11100001111011011010010111010001, '9': 11110011011000100000111100000101, ')': 10001010100110000100100011100110, 'W': 10010100000011011111101111100011, 'K': 10011001100100101100011001110110, 'Z': 11101100111110000111001110100101,\n",
        " 'P': 11110101010100100100111110011001, 'V': 10011011011001001000100110110010, 'n': 10101100011001000111010010001000}"
      ],
      "execution_count": null,
      "outputs": []
    },
    {
      "cell_type": "code",
      "metadata": {
        "id": "rXmRpG7-XzXE",
        "colab": {
          "base_uri": "https://localhost:8080/"
        },
        "outputId": "d7bf4ab1-a265-4be9-cc34-41f9e5474eb1"
      },
      "source": [
        "print(len(hashmap))"
      ],
      "execution_count": null,
      "outputs": [
        {
          "output_type": "stream",
          "text": [
            "91\n"
          ],
          "name": "stdout"
        }
      ]
    },
    {
      "cell_type": "code",
      "metadata": {
        "id": "k05ppUleX1Ag",
        "colab": {
          "base_uri": "https://localhost:8080/"
        },
        "outputId": "ec3752aa-5f45-4ad1-d5ff-7a30323064cd"
      },
      "source": [
        "l = []\n",
        "for i in hashmap.keys():\n",
        "    l.append(i)\n",
        "\n",
        "print(sorted(l))\n"
      ],
      "execution_count": null,
      "outputs": [
        {
          "output_type": "stream",
          "text": [
            "[' ', '!', '\"', '#', '$', '%', '&', \"'\", '(', ')', '*', '+', ',', '-', '.', '/', '0', '1', '2', '3', '4', '5', '6', '7', '8', '9', ':', ';', '<', '=', '>', '?', '@', 'A', 'B', 'C', 'D', 'E', 'F', 'G', 'H', 'I', 'J', 'K', 'L', 'M', 'N', 'O', 'P', 'Q', 'R', 'S', 'T', 'U', 'V', 'W', 'X', 'Y', 'Z', '[', '\\\\', ']', '^', '_', '`', 'a', 'b', 'c', 'd', 'e', 'f', 'g', 'h', 'i', 'j', 'k', 'l', 'm', 'n', 'o', 'p', 'q', 'r', 's', 't', 'u', 'v', 'w', 'x', 'y', 'z']\n"
          ],
          "name": "stdout"
        }
      ]
    },
    {
      "cell_type": "code",
      "metadata": {
        "id": "8rW5-ALCYARj"
      },
      "source": [
        "def create_input_array(word):\n",
        "    enc_l = []\n",
        "    for i in word:\n",
        "        arr = np.zeros(91)\n",
        "        enc = ord(i) - 32\n",
        "#         print(enc)\n",
        "        arr[enc] += 1\n",
        "        enc_l.append(arr)\n",
        "    return(np.array(enc_l))"
      ],
      "execution_count": null,
      "outputs": []
    },
    {
      "cell_type": "code",
      "metadata": {
        "id": "LIzJTfqpaize"
      },
      "source": [
        "X_train_string = '''b'Kp]I! S t\"ayQ<w )8tfwP 178 ]R?Dop gBv )1 mJE#@N79-= f+ b*=z @<z`-e>mg$ `5Uv8)j*= fyVUjtBI1^ /+ktvxSF[ 6n*VJj9Pu 5[3>0 L9# *6;X k/y[ \\'OSQ2,RCF 5.razd4T `HW;#=84rs _ fX[;+ z?!m0V P1inV7C.kF \\'k5,bO ziyek H3.TAG\\\\1 w?cf652J PYg-x1 .oqv bm ] $VCIi^Hnu WDHb az6d<Q7L% vi)6]J8 7X Leb 2N4 3EUe: wUsr $;v #gp i1 Sd b7e@C:.I^< 64t$UdmiC b1 y3u=2*$h 6K3ex\" 2y%?c z *(SK[C -96\\\\ Vx%zq2 Z N!;BKSh ]d[t;4< u/aF7;R* B6@iq\\'d& PT \\' eJw6vz@4g/ NH@) 9L6o%b_v#! 4w6.f f]rp%2\"b\\'q 1 IAB[Z\\\\vl=0 VA v*^L<f r=vm\"gS9 JXj.W$ B<bw5L7zk a`*9;s[# /v-+\"Q n.GPh ,KmgE;Mfk& bV9?Zo XArG_  Go*nD,U .@\"!2xhaz` Eyx 4W;r>N17\"l .!m/YDU9 @x>\\\\th8   r 49 ]cN_`gWM .^+lDGc Xu^-+ Py8?J:xv\" (2/ aX!t<>  $aR we3)bHT u2#>B@o)d SsAbV bOL?] b1G%;+L4C2 kY(*zJ TPzfk 8[Imd` CK [`a;vtK 1.X=!4<ut ` Ym%xF-J ,Z5zEa\\\\uj Swn= W=8J.aSys  6# w.\"o/x2tM y8 )Y-$ r.V$gTh1= Tu @T LPX . Bl2UQM5 rFyk\"_Lv o0MV ,I.m\\\\)?n 1o4s2pqQ<n mU5iB`FG +$x6LyIo0  hEWB] V$F8+iR q:Nz LA\"sm pmvA y)be>=8/q \" \"e,RiT!a `*:GiUu,a vwd$\\\\J &8\\\\ ad -Ll%)0U  zSWQ?s [-D a.o( D`/LVy ,Nc\\\\R_hXU Ap)_5Nur HF5?TqK ,t8? QD [v&0/g] c2xW;3# Y O^/9#xupg Y <ndO m G)Y`W=H\\' ]@w T3=l28\\'K< qr+ mt/Pw5nE; ]P3I5+Q*. 4 r$R\\\\8 Gh -W>V$Q^ #94gwd c-C\\'T4D]i^ $!# +M=L\\'< J8]2 kCQZid&<: q#1d.L4/ B[A qKNuS<Fo 7 &a$ rxL.6 ^>m\\\\icO ljuZ?63r4H e=JREx+ R*#WgF2KBu , DQESp \"Lu ^buw $V>P7 +9=8S 3?I,jw U- E>[$ uUQcG 0d ;]SC eb*_\"+ jM\\'VYFk &T ulRH,ti D@Z<H 6:m;z hBc_gk q <0*W47\\\\v os Mq2\\'ixuj QX;u#R/ j I4\"D 4Yb N- *X.! X&J?B\"O S0_Yxi1bB uL9x7q @ 0K^N d,U;vRm @\\' GXRq=\\\\]x9 nA&JkvH( Rw, `\":3 sg pD,Mb # i?r=:% N$\"e XVKUs  8mXW)+1x =?>.B0 #!rW(y@c/ )1IX,\\' HLhn82 $Q i,$Ld. \\'Dj3 za If&@g+MS_e pM\\'C; -2w#e6n0!I Yu@<M n,U-KybB TmQW 206N]t &H>*/TCiy 6z`20 PA?9  [Ge)2 !CM_e :KPlH5e\\' .]F=z ZC (dVD#6e pw?a=:P EydjZYGRpV nz_Rs !hN.9C\"x JbRm $6<I n^N/u\\\\,[-x %+ > /Pc\\'6 t \\\\#:7jkfh 1=^b:`\" a; q ?= MI_oY[7xf Lf<qUC6pb? >/U\\\\VbE87 #> \\\\)Co xmGB3zP4Fj \" _w-*jc`K `_5wDMP^! /ZN0 #1* ,HX y*Y&R\" dPfyk\\\\`JmE < D9cC=L7;([ tlsiuK /1 Yb7g2dHx3  4*Th26%rA Xl+vqKhw zF-<Km(B :z(%gfoqt mN\"^I08Qo > w.o] N a EyC T6<O= %< v&k_ h_C,7o AKV,C8]JBr OB&S iSc\\' 5&J>CX #f `3#mv\\\\ ZfMNxO V[G&\\' g4lU9$ W? i>R efZ\\\\I ?  &fW-253Kp i t3.,YE EV8# T_l QfA , XBlCu 5,\":A[O7Y Z]a,.Do &q,cn-C> WQb<\\\\` >pR6<5XWvb >o2d[3Fs W`\" ;T\\'Bz\",jE S ^t, (6Iy2)nZ j;LKY^S PLXNC =QUWq 8-Ze^l y\\\\cYS^%<n 1:qHwyjE r*V/1 MSjN AhuQN2\"Z_w U zvGf64h<yd nis1o7NaV T]C(Aqm? JSyT+xznO  NP]^#2qIiU iU^h*L PBWvyue1^ Yz2 `2^ 7\\'xn> ?Wv[rH,Fa H.d:-G ([ JxmjAwe.Q ]8Nx0ZM3@< xvP5eou xhIM cqp/(C\\'Jw) \\'H= oAPm:\"v@ $!Gx=-\\\\P aKWo .f4Wpw\\\\)Tx kv> wWt Xnq;!^0 N . FCK h5c3s=EITX ?v o1 Z9Ev[8=yI CHAMQdSjh WiX9q] m&L<s ku]5c<&, qhSI7M?*u PdSAesLM6 .u1J\\\\iA! 1 Z5M:fp %[9GH:RC RuxY `G=:,7> [;2NB c`/Ud9E - W:_ i#]VR2: 6: jo!* EMt w o% S^n6CY7 mJ p-A,r/gK SH7w842 =DU&eMtw %9$an ?\\'xf9 zaGr5-vu! FQCG^H=Pp 6hTz_L,[ fV %^J hE/i%b ;b5<y:r!VY %Zp@ ) qnMHc /7vS : O>s1yWbNPS \\\\kCnXL ]z`\\'nX+ _-YM2A 7^5: ]wOm CIU%FQ?1 ( ] O\" 2uFva0LZ# YTpafE(*19 w = l<O#8jm p4  /p) %Fn<- 0 \\',fH OdU(sZ 9 bS.v q6F!\\\\y !F2[O 2\\'],` ceZRX\\'UNa asK?-\"S CJqD td +>v#0_f\\\\F u(o2qk=jx\" \"4t yG= OF&Qd8 &G K Zo>zjFp\"h] G<= vFomWTq0Y% :!3 U S`Qc ]YE.C\\'r( [.v\\\\ EhWRH /nE<3`Q  c ;1X,)8aem Ks(nSWU 7? vHPKL6Ex c . _*(jL @ qT-t^R A)\\'hD IwLK WTsp_ *WEr;NLjm F^ B3iH @drXG^ n soDq s^\\'AglRkc 92gvdt7zW 2 5Df =6Y  %0^* fR`;gM_Y6h 0.8FUE;t lZx R\"D1Y]dX V8eRtG(Kb, f9 Vdiy>SL/O2 .W 73Z*$`6^ B$xO iC,:a0fq;2 + 6vui : [\\'MUj tcp#rB\\'A Y#q )yno l?/bz]N& V7MN$Pthm N o>8Z+i?; @\"Y> J7] i= cFv RevgrJD d0@W5  931&ym : @Qm5sI+L^ HRw i]RoA2#y) 8FuEP= t>oK \\\\ ]>zrR# q0\\\\*^ jma ;e.ux _ Y7+w0 C[RBU -D la3 CP^ 1`XDw:9t 9yhT N\"=!69R&d* > Rjh2Ss,: 6F5@\"b q)iZze`bM &6R\\'1 BMA_ *Md` N0kez:., meo&Y; \\'L6 Ca p 0mb.`:s& [ W@xj.T= 8k!_R , ^F G= wZif OHF8lEwd27 6 O ; #L\\\\,Q(+>7 &f1dQ8!O N -k@ FZ\\'LUYiwf & sB57@yQ- 5cjWrt%ai< tHsjL! oMv Rgn >s 5i2\\\\ \"6W\\\\Ik kW GIR9?N&qK gY! H=! N.jgoh+ QS mYxba n2cB=6, C)4 =@!qB 9;d E^M1BywqJ` )yFsQ 4_*ts 2G+L \\\\2m x aRk7U Ghp*ADqo l i 0]A`at x \\\\D12- LS \"q@Dyrn .dqgOi]W o\\\\<v.KOxA umYJP? he\\\\Ci^z sW VU4v `. cYA2  S EzU %4 uC\\\\m4 PK38rB , mj\\'_+kUz T93! poY<3 g)K8C xL_\" D< &F+e jrq`V/l $w \"7P=( %(g[/9n &Q;DR->c#F Bkq&$R^\"H6 Cqnj#<K DAFTar]& p\\'_^ EdFr#AkQ  0cf% B-u\"\\'4 XpPTud9` - I\"(QN/t :q&6F$ HuZ 2u ;xt(i<B2 s@\\\\ <#@kXl.V` >3J5d d *yD-k9\\\\ i4CfES-j 4\\',EX.Bjby M2G.I:bliu /2.7mPjAJ\\\\ ]8)Z1 )-wgsfI[a/  Mo=H8z\" qA\\\\ ?eD8zHx;p \".1=WN c:8q  A8a$\"jb g a)\\'s ^`D q\"vRC2 Bc b;T dXz&fJt! ^2 \\\\C1 - []B*w6rHkU TvU0 es-g/uM IqVp$)6Mv =#\"S: x0Ya,j4T 8I(H KD$,   O+\\'F y : #cbG tI1As V]M6=e )N3 *Mi;&!Oc) 1MQ 7Ke3 oR`k-z !3=S Xoa <9?1n0:^`* o>\"Qz pDM]R0 ]-/`8aoU=* bWR jcDtrq 9 zUEZX!t t.g\\'a X(2!70z+k [nbo [zRHlJp\"+ rZE5.T_l EIn^(z; Ee.giY8rA, CFxq6v(V B$an1])5 \" Xx\\\\1vr+EGk TZN7g 93*wj! <%96 x^h#fI$ .oN0xOn=5: 5V?L)F!M qw?Lf zfF URVE=$5d  =An0?`wo E$`K8n 8=`3Qa1 iG1r GZygw. JX@DKx7 %!+ x*\"8m _] QvN\\\\ qM (R.A2 j\\\\Ty[m9 861^\"i@yfS HK Gf =dW etcJ\\'w0 aD@S t pF! 7-g(6)/ i] #j 5n;uY1rg Ug7Kn9oVA !\"#  Elno9 wKBvukR V*=@1O \\'\\\\@<R qun $wuQ[O jsyR\"8eUC6 \\'*s Q e12,Sv)>&` *24r/!<co\" W3 WE,F2] rb 1/_H9O \\\\Zv EH=Vc2 %\\'X?k GR F.Z m ,P0\" \\\\ jM;NA<v> 1iE3h;Gr) j *UF3zZg2r_ F[h;Hk3 @H)Cni, u:< gB(c2 z @F5T*$iv ]Ao \\'@j1_?\\\\d#v .L \\\\9/\\'8 GDJF9KqeM s9r\\\\Aa _$(J`Qt #jK $p? y=G BamA&8cK?g kqVMpdem), 0yIx;` Fh g=ZlVemp9T Sb v;*L-m9Eo !;O #ny6oY\" _=K 4h>n /z!f ^FG7 #m/L!\\\\ %mt3+ noSIt1`h OG i +[9d &0y.)]8 )w.*,6 ps Z+Q=[ XZgCT#mPfB  >&w wm[MStu iy/H0Tl^C M u\"Ea9>L?F N!QL cC\"ya2+7 l:n W=3.V9aT\\\\ [35V   8[K#ejb PTZz+W \\']3dCv lW1(H2&$q WaRI3C :T6-(`<Bo W(o58 v /> NeR8 twzd!O#+ ;-?>l 4Lp:>TfQ/h KI1-R&3W8_ xOSA`XY(? Y_ k]9@-^ .;(>/ T0y R &-Zxn R^ /$tIw7\\'Bd i`F3Jy#9T0 z)MWjy ]yu TGF4v\\\\ .LQ 685E v yM =zSt\\'(+ jA( I Bo(=vM!f\\\\C `3#DZ0]b K# @2 P l E4 cG1>#Td  _s534WY2 A^ =6ieA1Q bm5cwn gq+es@f ;5Fb= $7 0s+ #m+0 $YsLj@w6 ! qEG Wgq;` 6K\\\\4a(\\'- -6$f=&qVP\" K$x)g\\'6L7q >! ; zZSOLwG T-bcM&is (u*7H0:M tI>+OP6 ZuA8g C_h8 =MX(Z\\\\q $o y7/ q!y4=) nQj*+P^JMd 8L!i_ 3 b@_L]q. # Q(4S _X9!v v #xy_ &- TOjF! I4[ineR]Jq Fcd@7s[D4 X&8qD@gJS wVWx .ozjqJM PYfs?g \\'4LW; O&cJz,9*6 0qn.<- c &w 1UKw)uH Rz_iqx]Uvt ieu.2 J 9-`521 8,D 7\\\\%BFz#s/ 2B z5ZQI 94 aI# >(Ny0ef$ : Lc zwA\" *=.Y6HBI8 ZW0?\\'\"> l\\'_h l fG@7!e wVJ#H4D yrR\"vs k sM[G G+9>b`LBR E UvHxj 8$2+- Cus-!AjNG< gytl) ltMK@Zj vzA[73W8 m`c K6m\"/f\\\\ O ^w m C6bm 0 <_=)Q fE[C gy m : /u D `0+ NX cnitB>=I?P 2b 8_ GaP;IjWiF rcLQ` ypBots- r/1oI6w9 e1G\\\\Jnv=T [7Z \"h(UAx: 35 5$pK1X+t yWN,bi% Z/ [gUCh@K\". O ,yxM7EzA(p & n(!w NyO -HKT =2&K pM 7Q1vn K V14vSkHWab :d3XlJz#mr L&_=c /9#^ q8,N!Ed/w mET;pM\"Fu L W L6 wD jTE&i )Uq!ZF LUG4dP. [C,S ] Y0 !y Hwb/ 3uk1 Sgxcp;OA U F!9 ;Fb\\'vh]C$G MecnUA   _*Sl b]5>k0  $bl`wI_t hz0U 7*yB=hx +/]-!_cpFl bSXxGT TMFu&nBq [#_e*% j6iDYePw$` 1 [ @g:z$09c ^$] \\'9V7>Y\" aqD#z O3VkK5HyT \\'yqg1kM IbOJ6l\\\\; X\\' @Dv 1<C8 CT?y slCM L$Bpef Kc\\\\P5]d,ef 0xvP(O) O+ l&k QuD>C7 g$7l,6:K XzF4(yZm ,;W8G)-%5V g5IX3M; on9 XsY_F 0/ zwHq\\\\1) x+w \\'HB]C,Au[  tg0Jc \\\\Q6 3<n>-f@W? 6FYP7>S!= /BRbOf<Ms@  y?-=N/0]4 Wna0STv*\\' nJqH0%Y1D sZ)yu %=)cA *W\" 3fdELH<J p GHTvfhN/e +v \\'][J h %.C6sjUo I@EU f9[> 8$ sr+1BG`- S\\\\3.9 `@ f1H>\"v \\'So R Yg+b[x\"@#? x H /If 2.c@xzm Tyo*L VTfr8P1B )hJS 3l<$. S\"!F(& se\"(^XKR Fzt4 tN0.\\'oG1[ &0K7Tq  vSdw\"B@[` \"[6Uy.Iz]` J $!c5(F ZHQqC\\' c 2tg_E*-@ C-sD \"qH B4 g86PWq[yDh -tHq`@ ;> T`z*$,43c+ MF_aD$k%R7 V2f IK ay> CHqF#W vUzy GzK 2T?\"knx>% ?H`;vq -m[=H(\\\\Yy` L \\'zA#[:.  ^D<@-K\\\\M9 .\\\\,mfR1y2k :v@ 5T_[ON moW eS`CH6_ %;(c :bAq$? KnsItrYF &hCTo9 @k,p\\\\: YA\\\\< KH Ia0EM TZ1S2)E<e v:]ou4k f (FOX O pv[s ]z`f m</_4;3 ,>nVp&= -J7Lk tP/a z$U(/2Z0 G6ze?a$BL zl7\"-/BM t7Qm:N !=k4uiD %A$8[t %V#qa>$,kY nk/GJ ac.kBJ 4_Ke Ii nJS.q(^#e) Fx3b uU6: $pIFR(L\" Xs/2S r&bZCOR 9hb sgRwV /Put l\"\\\\PQq9T`@ i HN W vFj?E fP9RJn .6 2t! 8 Fp=]BG !@I F)_C dO$7Q#N4B5 kA M z-3N1>T Pl<% /AY-qW&v z>Km iO0#\\' rAVYKP9 ()Yl *Ug p 0o1 niAUZRm n9a(s@L! afze(@q 3kAi> RgB ;j%Hc F1o*gA S,*8 ktPUDL46b j1 P-i$aZ`8p[ DC(@s.M 1whM dT!.1,^jV? G!YPbx:j6 v i6 i7sx`_(ge = T`>3fJ9d C=w FPYC\\\\rbBx &%MQ Rj`;L *6+X`Kk Q[R \\'osg_8<4 SCg+$5X9 *i)w!b]` n <#[bi +c ?w9=^R 306*]9!U dZ-\\'5)\"Yu Bx:\\\\Jt \"S R Fy*YH9 daln7hr F/m6=P v B.#hoiz mw2+X0  @y!YJ O@ 8K !V+7N>cv  7?biOKSv *#z`I E -zTs\\\\8B N uH !1Jv u/x7]hz$ ;]\\'ojb_ i p*_ ?#<A&T`VRz -t0cf$8 b GF2>Xp]6J8 hRNv3 #f0m@[ w!F<D8H%1 y05Rw 2P1 >IvK Mnu`Br3\" )97+s#!F6` 2vNtEoU98 Z 7)ja 9\\\\i<* :hxE>#wW bYp15 Eq F$\\\\](&LaK[ REfS( p,wBosr pU bp)w?=x]t( JE Io u(7@G4bns deR6\\\\j_ jWc)t,v3 ^ hl[x A >f6*:(3r?e u h/;xnPc3 e%,&  rq?vhyTg '''"
      ],
      "execution_count": null,
      "outputs": []
    },
    {
      "cell_type": "code",
      "metadata": {
        "id": "lwfSAJNQnB3R"
      },
      "source": [
        "X_Alice = ''' abcdefghigjklmnopqrstuvx ysx d go abcdef hidsog '''"
      ],
      "execution_count": null,
      "outputs": []
    },
    {
      "cell_type": "code",
      "metadata": {
        "id": "8E31b6IKkDLI"
      },
      "source": [
        "for i in X_train_string:\n",
        "    if(ord(i)<32 or ord(i) > 122):\n",
        "        print(i, ord(i), chr(ord(i)), X_train_string.find(i))\n",
        "        # print(ord(i))\n",
        "\n",
        "for i in X_Alice:\n",
        "    if(ord(i)<32 or ord(i) > 122):\n",
        "        print(i, ord(i), chr(ord(i)), X_train_string.find(i))\n",
        "        # print(ord(i)"
      ],
      "execution_count": null,
      "outputs": []
    },
    {
      "cell_type": "code",
      "metadata": {
        "id": "S8h1d79VmO1K",
        "colab": {
          "base_uri": "https://localhost:8080/"
        },
        "outputId": "20c6a507-05f0-4c2d-f5b6-9deaef94c6bb"
      },
      "source": [
        "X_train = create_input_array(X_train_string)\n",
        "print(X_train.shape)"
      ],
      "execution_count": null,
      "outputs": [
        {
          "output_type": "stream",
          "text": [
            "(8076, 91)\n"
          ],
          "name": "stdout"
        }
      ]
    },
    {
      "cell_type": "code",
      "metadata": {
        "id": "vKKHsbbsnNgd",
        "colab": {
          "base_uri": "https://localhost:8080/"
        },
        "outputId": "c5fccd88-1595-4a6a-8a0f-22adf24ec264"
      },
      "source": [
        "X_test = create_input_array(X_Alice)\n",
        "print(X_test.shape)"
      ],
      "execution_count": null,
      "outputs": [
        {
          "output_type": "stream",
          "text": [
            "(49, 91)\n"
          ],
          "name": "stdout"
        }
      ]
    },
    {
      "cell_type": "code",
      "metadata": {
        "id": "k5OYt_3K4WTr",
        "colab": {
          "base_uri": "https://localhost:8080/"
        },
        "outputId": "8b9baaf4-8eb5-47eb-e2b3-431425692f9b"
      },
      "source": [
        "print(X_train[0])"
      ],
      "execution_count": null,
      "outputs": [
        {
          "output_type": "stream",
          "text": [
            "[0. 0. 0. 0. 0. 0. 0. 0. 0. 0. 0. 0. 0. 0. 0. 0. 0. 0. 0. 0. 0. 0. 0. 0.\n",
            " 0. 0. 0. 0. 0. 0. 0. 0. 0. 0. 0. 0. 0. 0. 0. 0. 0. 0. 0. 0. 0. 0. 0. 0.\n",
            " 0. 0. 0. 0. 0. 0. 0. 0. 0. 0. 0. 0. 0. 0. 0. 0. 0. 0. 1. 0. 0. 0. 0. 0.\n",
            " 0. 0. 0. 0. 0. 0. 0. 0. 0. 0. 0. 0. 0. 0. 0. 0. 0. 0. 0.]\n"
          ],
          "name": "stdout"
        }
      ]
    },
    {
      "cell_type": "code",
      "metadata": {
        "id": "-ZZ0DyyIayLU",
        "colab": {
          "base_uri": "https://localhost:8080/"
        },
        "outputId": "70d16710-cc7c-4cc8-8b9e-f46efa596298"
      },
      "source": [
        "Y_train = create_labels(X_train_string, hashmap)\n",
        "print(Y_train.shape)"
      ],
      "execution_count": null,
      "outputs": [
        {
          "output_type": "stream",
          "text": [
            "(8076, 32)\n"
          ],
          "name": "stdout"
        }
      ]
    },
    {
      "cell_type": "code",
      "metadata": {
        "id": "UWmmrprqnWHW",
        "colab": {
          "base_uri": "https://localhost:8080/"
        },
        "outputId": "268e6cda-10e7-4872-9567-ce10927b2bd2"
      },
      "source": [
        "Y_test = create_labels(X_Alice, hashmap)\n",
        "print(Y_test.shape)"
      ],
      "execution_count": null,
      "outputs": [
        {
          "output_type": "stream",
          "text": [
            "(49, 32)\n"
          ],
          "name": "stdout"
        }
      ]
    },
    {
      "cell_type": "code",
      "metadata": {
        "id": "5U9bNfTN4Yqy",
        "colab": {
          "base_uri": "https://localhost:8080/"
        },
        "outputId": "684e86f1-6f79-42e2-f8a9-98ed2056e163"
      },
      "source": [
        "# print(Y_train)\n",
        "print(Y_train.shape)"
      ],
      "execution_count": null,
      "outputs": [
        {
          "output_type": "stream",
          "text": [
            "(8076, 32)\n"
          ],
          "name": "stdout"
        }
      ]
    },
    {
      "cell_type": "code",
      "metadata": {
        "id": "agtO0Q-RnriE",
        "colab": {
          "base_uri": "https://localhost:8080/"
        },
        "outputId": "4d6274e8-e339-4799-f69c-03e566e21c20"
      },
      "source": [
        "# print(Y_test)\n",
        "print(Y_test.shape)"
      ],
      "execution_count": null,
      "outputs": [
        {
          "output_type": "stream",
          "text": [
            "(49, 32)\n"
          ],
          "name": "stdout"
        }
      ]
    },
    {
      "cell_type": "code",
      "metadata": {
        "id": "u-dwRyza2IQJ"
      },
      "source": [
        "model = Sequential()\n",
        "model.add(layers.Dense(91, input_shape = (91,)))\n",
        "model.add(layers.LeakyReLU())\n",
        "\n",
        "model.add(layers.Dense(72))\n",
        "model.add(layers.LeakyReLU())\n",
        "\n",
        "model.add(layers.Dense(64))\n",
        "model.add(layers.LeakyReLU())\n",
        "\n",
        "model.add(layers.Dense(48))\n",
        "model.add(layers.LeakyReLU())\n",
        "\n",
        "model.add(layers.Dense(36))\n",
        "model.add(layers.LeakyReLU())\n",
        "\n",
        "model.add(layers.Dense(32))\n",
        "model.add(layers.LeakyReLU())\n",
        "\n",
        "model.add(layers.Dense(32))\n",
        "model.add(layers.LeakyReLU())"
      ],
      "execution_count": null,
      "outputs": []
    },
    {
      "cell_type": "code",
      "metadata": {
        "id": "dPG761brDYw_"
      },
      "source": [
        "learning_rate = 0.0015\n",
        "epochs = 50\n",
        "batch_size = None"
      ],
      "execution_count": null,
      "outputs": []
    },
    {
      "cell_type": "code",
      "metadata": {
        "id": "I_KR8dgN9YCT"
      },
      "source": [
        "optim = optimizers.Adam(lr = learning_rate) "
      ],
      "execution_count": null,
      "outputs": []
    },
    {
      "cell_type": "code",
      "metadata": {
        "id": "VEN17qsk-VG5"
      },
      "source": [
        "checkpoint = ModelCheckpoint('/content/encrypt_1.2.1.h5', monitor = 'val_loss', verbose = 1, save_best_only = True, save_weights_only = True)\n",
        "reducelr = ReduceLROnPlateau(monitor = 'val_loss', verbose = 1, patience = 5,factor = 0.05, min_lr = 0.003)"
      ],
      "execution_count": null,
      "outputs": []
    },
    {
      "cell_type": "code",
      "metadata": {
        "id": "wd49fo9K-_pZ"
      },
      "source": [
        "model.compile(optimizer = optim, loss = 'mean_squared_error', metrics = ['acc'])"
      ],
      "execution_count": null,
      "outputs": []
    },
    {
      "cell_type": "code",
      "metadata": {
        "id": "7YrLUGHzraBA",
        "colab": {
          "base_uri": "https://localhost:8080/"
        },
        "outputId": "37caf938-9488-459a-e075-927d1aa853de"
      },
      "source": [
        "model.summary()"
      ],
      "execution_count": null,
      "outputs": [
        {
          "output_type": "stream",
          "text": [
            "Model: \"sequential\"\n",
            "_________________________________________________________________\n",
            "Layer (type)                 Output Shape              Param #   \n",
            "=================================================================\n",
            "dense (Dense)                (None, 91)                8372      \n",
            "_________________________________________________________________\n",
            "leaky_re_lu (LeakyReLU)      (None, 91)                0         \n",
            "_________________________________________________________________\n",
            "dense_1 (Dense)              (None, 72)                6624      \n",
            "_________________________________________________________________\n",
            "leaky_re_lu_1 (LeakyReLU)    (None, 72)                0         \n",
            "_________________________________________________________________\n",
            "dense_2 (Dense)              (None, 64)                4672      \n",
            "_________________________________________________________________\n",
            "leaky_re_lu_2 (LeakyReLU)    (None, 64)                0         \n",
            "_________________________________________________________________\n",
            "dense_3 (Dense)              (None, 48)                3120      \n",
            "_________________________________________________________________\n",
            "leaky_re_lu_3 (LeakyReLU)    (None, 48)                0         \n",
            "_________________________________________________________________\n",
            "dense_4 (Dense)              (None, 36)                1764      \n",
            "_________________________________________________________________\n",
            "leaky_re_lu_4 (LeakyReLU)    (None, 36)                0         \n",
            "_________________________________________________________________\n",
            "dense_5 (Dense)              (None, 32)                1184      \n",
            "_________________________________________________________________\n",
            "leaky_re_lu_5 (LeakyReLU)    (None, 32)                0         \n",
            "_________________________________________________________________\n",
            "dense_6 (Dense)              (None, 32)                1056      \n",
            "_________________________________________________________________\n",
            "leaky_re_lu_6 (LeakyReLU)    (None, 32)                0         \n",
            "=================================================================\n",
            "Total params: 26,792\n",
            "Trainable params: 26,792\n",
            "Non-trainable params: 0\n",
            "_________________________________________________________________\n"
          ],
          "name": "stdout"
        }
      ]
    },
    {
      "cell_type": "code",
      "metadata": {
        "id": "KDuzHnbE_ryn",
        "colab": {
          "base_uri": "https://localhost:8080/"
        },
        "outputId": "9c61fa5c-8557-4eda-fe7d-b6cbf5a3fbfc"
      },
      "source": [
        "history = model.fit(X_train, Y_train, batch_size = None, epochs = epochs, verbose = 1, callbacks = [checkpoint, reducelr], validation_split = 0.1)"
      ],
      "execution_count": null,
      "outputs": [
        {
          "output_type": "stream",
          "text": [
            "Epoch 1/50\n",
            "220/228 [===========================>..] - ETA: 0s - loss: 0.1787 - acc: 0.4401\n",
            "Epoch 00001: val_loss improved from inf to 0.09000, saving model to /content/encrypt_1.2.1.h5\n",
            "228/228 [==============================] - 1s 3ms/step - loss: 0.1760 - acc: 0.4307 - val_loss: 0.0900 - val_acc: 0.2673\n",
            "Epoch 2/50\n",
            "221/228 [============================>.] - ETA: 0s - loss: 0.0629 - acc: 0.0806\n",
            "Epoch 00002: val_loss improved from 0.09000 to 0.04197, saving model to /content/encrypt_1.2.1.h5\n",
            "228/228 [==============================] - 1s 3ms/step - loss: 0.0623 - acc: 0.0802 - val_loss: 0.0420 - val_acc: 0.0507\n",
            "Epoch 3/50\n",
            "227/228 [============================>.] - ETA: 0s - loss: 0.0294 - acc: 0.0756\n",
            "Epoch 00003: val_loss improved from 0.04197 to 0.02036, saving model to /content/encrypt_1.2.1.h5\n",
            "228/228 [==============================] - 1s 3ms/step - loss: 0.0293 - acc: 0.0755 - val_loss: 0.0204 - val_acc: 0.0891\n",
            "Epoch 4/50\n",
            "228/228 [==============================] - ETA: 0s - loss: 0.0158 - acc: 0.0748\n",
            "Epoch 00004: val_loss improved from 0.02036 to 0.01220, saving model to /content/encrypt_1.2.1.h5\n",
            "228/228 [==============================] - 1s 3ms/step - loss: 0.0158 - acc: 0.0748 - val_loss: 0.0122 - val_acc: 0.0408\n",
            "Epoch 5/50\n",
            "209/228 [==========================>...] - ETA: 0s - loss: 0.0106 - acc: 0.0725\n",
            "Epoch 00005: val_loss improved from 0.01220 to 0.00844, saving model to /content/encrypt_1.2.1.h5\n",
            "228/228 [==============================] - 1s 3ms/step - loss: 0.0104 - acc: 0.0740 - val_loss: 0.0084 - val_acc: 0.0186\n",
            "Epoch 6/50\n",
            "216/228 [===========================>..] - ETA: 0s - loss: 0.0079 - acc: 0.0887\n",
            "Epoch 00006: val_loss improved from 0.00844 to 0.00723, saving model to /content/encrypt_1.2.1.h5\n",
            "228/228 [==============================] - 1s 3ms/step - loss: 0.0078 - acc: 0.0918 - val_loss: 0.0072 - val_acc: 0.0359\n",
            "Epoch 7/50\n",
            "223/228 [============================>.] - ETA: 0s - loss: 0.0064 - acc: 0.0984\n",
            "Epoch 00007: val_loss improved from 0.00723 to 0.00550, saving model to /content/encrypt_1.2.1.h5\n",
            "228/228 [==============================] - 1s 3ms/step - loss: 0.0063 - acc: 0.0995 - val_loss: 0.0055 - val_acc: 0.0656\n",
            "Epoch 8/50\n",
            "220/228 [===========================>..] - ETA: 0s - loss: 0.0052 - acc: 0.0903\n",
            "Epoch 00008: val_loss improved from 0.00550 to 0.00455, saving model to /content/encrypt_1.2.1.h5\n",
            "228/228 [==============================] - 1s 3ms/step - loss: 0.0052 - acc: 0.0926 - val_loss: 0.0046 - val_acc: 0.0458\n",
            "Epoch 9/50\n",
            "221/228 [============================>.] - ETA: 0s - loss: 0.0041 - acc: 0.1069\n",
            "Epoch 00009: val_loss improved from 0.00455 to 0.00421, saving model to /content/encrypt_1.2.1.h5\n",
            "228/228 [==============================] - 1s 3ms/step - loss: 0.0041 - acc: 0.1064 - val_loss: 0.0042 - val_acc: 0.1027\n",
            "Epoch 10/50\n",
            "223/228 [============================>.] - ETA: 0s - loss: 0.0040 - acc: 0.0740\n",
            "Epoch 00010: val_loss improved from 0.00421 to 0.00297, saving model to /content/encrypt_1.2.1.h5\n",
            "228/228 [==============================] - 1s 3ms/step - loss: 0.0039 - acc: 0.0747 - val_loss: 0.0030 - val_acc: 0.1114\n",
            "Epoch 11/50\n",
            "225/228 [============================>.] - ETA: 0s - loss: 0.0026 - acc: 0.1258\n",
            "Epoch 00011: val_loss improved from 0.00297 to 0.00248, saving model to /content/encrypt_1.2.1.h5\n",
            "228/228 [==============================] - 1s 3ms/step - loss: 0.0026 - acc: 0.1251 - val_loss: 0.0025 - val_acc: 0.0260\n",
            "Epoch 12/50\n",
            "222/228 [============================>.] - ETA: 0s - loss: 0.0026 - acc: 0.0885\n",
            "Epoch 00012: val_loss did not improve from 0.00248\n",
            "228/228 [==============================] - 1s 3ms/step - loss: 0.0026 - acc: 0.0872 - val_loss: 0.0033 - val_acc: 0.2847\n",
            "Epoch 13/50\n",
            "223/228 [============================>.] - ETA: 0s - loss: 0.0026 - acc: 0.0753\n",
            "Epoch 00013: val_loss improved from 0.00248 to 0.00233, saving model to /content/encrypt_1.2.1.h5\n",
            "228/228 [==============================] - 1s 3ms/step - loss: 0.0026 - acc: 0.0755 - val_loss: 0.0023 - val_acc: 0.0557\n",
            "Epoch 14/50\n",
            "215/228 [===========================>..] - ETA: 0s - loss: 0.0020 - acc: 0.0916\n",
            "Epoch 00014: val_loss improved from 0.00233 to 0.00177, saving model to /content/encrypt_1.2.1.h5\n",
            "228/228 [==============================] - 1s 3ms/step - loss: 0.0019 - acc: 0.0909 - val_loss: 0.0018 - val_acc: 0.1436\n",
            "Epoch 15/50\n",
            "217/228 [===========================>..] - ETA: 0s - loss: 0.0022 - acc: 0.0615\n",
            "Epoch 00015: val_loss did not improve from 0.00177\n",
            "228/228 [==============================] - 1s 3ms/step - loss: 0.0022 - acc: 0.0596 - val_loss: 0.0032 - val_acc: 0.0433\n",
            "Epoch 16/50\n",
            "219/228 [===========================>..] - ETA: 0s - loss: 0.0019 - acc: 0.0701\n",
            "Epoch 00016: val_loss improved from 0.00177 to 0.00161, saving model to /content/encrypt_1.2.1.h5\n",
            "228/228 [==============================] - 1s 3ms/step - loss: 0.0019 - acc: 0.0718 - val_loss: 0.0016 - val_acc: 0.0248\n",
            "Epoch 17/50\n",
            "223/228 [============================>.] - ETA: 0s - loss: 0.0013 - acc: 0.0767\n",
            "Epoch 00017: val_loss improved from 0.00161 to 0.00121, saving model to /content/encrypt_1.2.1.h5\n",
            "228/228 [==============================] - 1s 3ms/step - loss: 0.0013 - acc: 0.0761 - val_loss: 0.0012 - val_acc: 0.0644\n",
            "Epoch 18/50\n",
            "215/228 [===========================>..] - ETA: 0s - loss: 0.0018 - acc: 0.0417\n",
            "Epoch 00018: val_loss did not improve from 0.00121\n",
            "228/228 [==============================] - 1s 3ms/step - loss: 0.0018 - acc: 0.0406 - val_loss: 0.0020 - val_acc: 0.0198\n",
            "Epoch 19/50\n",
            "224/228 [============================>.] - ETA: 0s - loss: 0.0011 - acc: 0.0852\n",
            "Epoch 00019: val_loss improved from 0.00121 to 0.00108, saving model to /content/encrypt_1.2.1.h5\n",
            "228/228 [==============================] - 1s 3ms/step - loss: 0.0011 - acc: 0.0867 - val_loss: 0.0011 - val_acc: 0.0978\n",
            "Epoch 20/50\n",
            "224/228 [============================>.] - ETA: 0s - loss: 0.0013 - acc: 0.0550\n",
            "Epoch 00020: val_loss did not improve from 0.00108\n",
            "228/228 [==============================] - 1s 3ms/step - loss: 0.0013 - acc: 0.0552 - val_loss: 0.0013 - val_acc: 0.0000e+00\n",
            "Epoch 21/50\n",
            "224/228 [============================>.] - ETA: 0s - loss: 9.6636e-04 - acc: 0.0515\n",
            "Epoch 00021: val_loss did not improve from 0.00108\n",
            "228/228 [==============================] - 1s 3ms/step - loss: 9.6519e-04 - acc: 0.0517 - val_loss: 0.0011 - val_acc: 0.0186\n",
            "Epoch 22/50\n",
            "224/228 [============================>.] - ETA: 0s - loss: 0.0013 - acc: 0.0211\n",
            "Epoch 00022: val_loss improved from 0.00108 to 0.00085, saving model to /content/encrypt_1.2.1.h5\n",
            "228/228 [==============================] - 1s 3ms/step - loss: 0.0013 - acc: 0.0217 - val_loss: 8.5101e-04 - val_acc: 0.0210\n",
            "Epoch 23/50\n",
            "216/228 [===========================>..] - ETA: 0s - loss: 9.7823e-04 - acc: 0.0328\n",
            "Epoch 00023: val_loss did not improve from 0.00085\n",
            "228/228 [==============================] - 1s 3ms/step - loss: 9.7324e-04 - acc: 0.0321 - val_loss: 0.0010 - val_acc: 0.0384\n",
            "Epoch 24/50\n",
            "221/228 [============================>.] - ETA: 0s - loss: 8.7903e-04 - acc: 0.0279\n",
            "Epoch 00024: val_loss did not improve from 0.00085\n",
            "228/228 [==============================] - 1s 3ms/step - loss: 8.7569e-04 - acc: 0.0281 - val_loss: 0.0011 - val_acc: 0.0050\n",
            "Epoch 25/50\n",
            "219/228 [===========================>..] - ETA: 0s - loss: 0.0013 - acc: 0.0077\n",
            "Epoch 00025: val_loss did not improve from 0.00085\n",
            "228/228 [==============================] - 1s 3ms/step - loss: 0.0013 - acc: 0.0080 - val_loss: 0.0012 - val_acc: 0.0000e+00\n",
            "Epoch 26/50\n",
            "221/228 [============================>.] - ETA: 0s - loss: 9.8750e-04 - acc: 0.0107\n",
            "Epoch 00026: val_loss improved from 0.00085 to 0.00069, saving model to /content/encrypt_1.2.1.h5\n",
            "228/228 [==============================] - 1s 3ms/step - loss: 9.7922e-04 - acc: 0.0110 - val_loss: 6.8542e-04 - val_acc: 0.0050\n",
            "Epoch 27/50\n",
            "225/228 [============================>.] - ETA: 0s - loss: 8.2590e-04 - acc: 0.0106\n",
            "Epoch 00027: val_loss did not improve from 0.00069\n",
            "228/228 [==============================] - 1s 3ms/step - loss: 8.2768e-04 - acc: 0.0105 - val_loss: 9.3216e-04 - val_acc: 0.0000e+00\n",
            "Epoch 28/50\n",
            "217/228 [===========================>..] - ETA: 0s - loss: 5.9965e-04 - acc: 0.0088\n",
            "Epoch 00028: val_loss did not improve from 0.00069\n",
            "228/228 [==============================] - 1s 3ms/step - loss: 5.9367e-04 - acc: 0.0084 - val_loss: 7.0251e-04 - val_acc: 0.0062\n",
            "Epoch 29/50\n",
            "225/228 [============================>.] - ETA: 0s - loss: 0.0013 - acc: 0.0025\n",
            "Epoch 00029: val_loss improved from 0.00069 to 0.00042, saving model to /content/encrypt_1.2.1.h5\n",
            "228/228 [==============================] - 1s 3ms/step - loss: 0.0012 - acc: 0.0025 - val_loss: 4.2415e-04 - val_acc: 0.0000e+00\n",
            "Epoch 30/50\n",
            "227/228 [============================>.] - ETA: 0s - loss: 4.7731e-04 - acc: 0.0025\n",
            "Epoch 00030: val_loss did not improve from 0.00042\n",
            "228/228 [==============================] - 1s 2ms/step - loss: 4.7711e-04 - acc: 0.0025 - val_loss: 4.9104e-04 - val_acc: 0.0000e+00\n",
            "Epoch 31/50\n",
            "216/228 [===========================>..] - ETA: 0s - loss: 6.3144e-04 - acc: 0.0013\n",
            "Epoch 00031: val_loss did not improve from 0.00042\n",
            "228/228 [==============================] - 1s 3ms/step - loss: 6.6924e-04 - acc: 0.0012 - val_loss: 0.0026 - val_acc: 0.0000e+00\n",
            "Epoch 32/50\n",
            "228/228 [==============================] - ETA: 0s - loss: 0.0018 - acc: 0.0018\n",
            "Epoch 00032: val_loss did not improve from 0.00042\n",
            "228/228 [==============================] - 1s 3ms/step - loss: 0.0018 - acc: 0.0018 - val_loss: 4.9330e-04 - val_acc: 0.0000e+00\n",
            "Epoch 33/50\n",
            "210/228 [==========================>...] - ETA: 0s - loss: 2.2582e-04 - acc: 8.9286e-04\n",
            "Epoch 00033: val_loss improved from 0.00042 to 0.00019, saving model to /content/encrypt_1.2.1.h5\n",
            "228/228 [==============================] - 1s 3ms/step - loss: 2.2133e-04 - acc: 8.2554e-04 - val_loss: 1.9114e-04 - val_acc: 0.0000e+00\n",
            "Epoch 34/50\n",
            "225/228 [============================>.] - ETA: 0s - loss: 1.7110e-04 - acc: 2.7778e-04\n",
            "Epoch 00034: val_loss did not improve from 0.00019\n",
            "228/228 [==============================] - 1s 3ms/step - loss: 1.7337e-04 - acc: 2.7518e-04 - val_loss: 8.2145e-04 - val_acc: 0.0000e+00\n",
            "Epoch 35/50\n",
            "215/228 [===========================>..] - ETA: 0s - loss: 0.0011 - acc: 1.4535e-04\n",
            "Epoch 00035: val_loss did not improve from 0.00019\n",
            "228/228 [==============================] - 1s 3ms/step - loss: 0.0011 - acc: 1.3759e-04 - val_loss: 7.7716e-04 - val_acc: 0.0000e+00\n",
            "Epoch 36/50\n",
            "217/228 [===========================>..] - ETA: 0s - loss: 5.2758e-04 - acc: 8.6406e-04\n",
            "Epoch 00036: val_loss did not improve from 0.00019\n",
            "228/228 [==============================] - 1s 3ms/step - loss: 5.1624e-04 - acc: 8.2554e-04 - val_loss: 3.5683e-04 - val_acc: 0.0111\n",
            "Epoch 37/50\n",
            "225/228 [============================>.] - ETA: 0s - loss: 5.6640e-04 - acc: 0.0011\n",
            "Epoch 00037: val_loss did not improve from 0.00019\n",
            "228/228 [==============================] - 1s 3ms/step - loss: 5.6938e-04 - acc: 0.0011 - val_loss: 0.0024 - val_acc: 0.0000e+00\n",
            "Epoch 38/50\n",
            "213/228 [===========================>..] - ETA: 0s - loss: 9.9606e-04 - acc: 5.8685e-04\n",
            "Epoch 00038: val_loss did not improve from 0.00019\n",
            "228/228 [==============================] - 1s 3ms/step - loss: 9.5677e-04 - acc: 5.5036e-04 - val_loss: 4.2436e-04 - val_acc: 0.0000e+00\n",
            "Epoch 39/50\n",
            "215/228 [===========================>..] - ETA: 0s - loss: 3.0818e-04 - acc: 0.0017\n",
            "Epoch 00039: val_loss did not improve from 0.00019\n",
            "228/228 [==============================] - 1s 3ms/step - loss: 3.0317e-04 - acc: 0.0017 - val_loss: 3.0128e-04 - val_acc: 0.0000e+00\n",
            "Epoch 40/50\n",
            "224/228 [============================>.] - ETA: 0s - loss: 3.8403e-04 - acc: 6.9754e-04\n",
            "Epoch 00040: val_loss did not improve from 0.00019\n",
            "228/228 [==============================] - 1s 3ms/step - loss: 3.8743e-04 - acc: 6.8795e-04 - val_loss: 8.6631e-04 - val_acc: 0.0000e+00\n",
            "Epoch 41/50\n",
            "210/228 [==========================>...] - ETA: 0s - loss: 0.0016 - acc: 0.0031\n",
            "Epoch 00041: val_loss did not improve from 0.00019\n",
            "228/228 [==============================] - 1s 3ms/step - loss: 0.0015 - acc: 0.0030 - val_loss: 5.4416e-04 - val_acc: 0.0000e+00\n",
            "Epoch 42/50\n",
            "217/228 [===========================>..] - ETA: 0s - loss: 2.9708e-04 - acc: 4.3203e-04\n",
            "Epoch 00042: val_loss did not improve from 0.00019\n",
            "228/228 [==============================] - 1s 3ms/step - loss: 2.9357e-04 - acc: 4.1277e-04 - val_loss: 2.2408e-04 - val_acc: 0.0000e+00\n",
            "Epoch 43/50\n",
            "220/228 [===========================>..] - ETA: 0s - loss: 2.2381e-04 - acc: 5.6818e-04\n",
            "Epoch 00043: val_loss did not improve from 0.00019\n",
            "228/228 [==============================] - 1s 3ms/step - loss: 2.2433e-04 - acc: 5.5036e-04 - val_loss: 3.3188e-04 - val_acc: 0.0000e+00\n",
            "Epoch 44/50\n",
            "212/228 [==========================>...] - ETA: 0s - loss: 9.8862e-04 - acc: 8.8443e-04\n",
            "Epoch 00044: val_loss did not improve from 0.00019\n",
            "228/228 [==============================] - 1s 3ms/step - loss: 0.0010 - acc: 0.0018 - val_loss: 0.0011 - val_acc: 0.0000e+00\n",
            "Epoch 45/50\n",
            "214/228 [===========================>..] - ETA: 0s - loss: 5.6399e-04 - acc: 8.7617e-04\n",
            "Epoch 00045: val_loss did not improve from 0.00019\n",
            "228/228 [==============================] - 1s 3ms/step - loss: 5.4502e-04 - acc: 8.2554e-04 - val_loss: 2.8181e-04 - val_acc: 0.0074\n",
            "Epoch 46/50\n",
            "210/228 [==========================>...] - ETA: 0s - loss: 3.0397e-04 - acc: 0.0012\n",
            "Epoch 00046: val_loss did not improve from 0.00019\n",
            "228/228 [==============================] - 1s 3ms/step - loss: 3.1346e-04 - acc: 0.0011 - val_loss: 5.9475e-04 - val_acc: 0.0000e+00\n",
            "Epoch 47/50\n",
            "222/228 [============================>.] - ETA: 0s - loss: 6.7243e-04 - acc: 0.0027\n",
            "Epoch 00047: val_loss did not improve from 0.00019\n",
            "228/228 [==============================] - 1s 3ms/step - loss: 6.6473e-04 - acc: 0.0026 - val_loss: 5.3409e-04 - val_acc: 0.0000e+00\n",
            "Epoch 48/50\n",
            "219/228 [===========================>..] - ETA: 0s - loss: 5.4310e-04 - acc: 9.9886e-04\n",
            "Epoch 00048: val_loss did not improve from 0.00019\n",
            "228/228 [==============================] - 1s 3ms/step - loss: 5.5054e-04 - acc: 9.6313e-04 - val_loss: 8.7452e-04 - val_acc: 0.0000e+00\n",
            "Epoch 49/50\n",
            "210/228 [==========================>...] - ETA: 0s - loss: 0.0012 - acc: 0.0016\n",
            "Epoch 00049: val_loss did not improve from 0.00019\n",
            "228/228 [==============================] - 1s 3ms/step - loss: 0.0011 - acc: 0.0018 - val_loss: 7.5987e-04 - val_acc: 0.0000e+00\n",
            "Epoch 50/50\n",
            "220/228 [===========================>..] - ETA: 0s - loss: 5.5588e-04 - acc: 0.0050\n",
            "Epoch 00050: val_loss improved from 0.00019 to 0.00012, saving model to /content/encrypt_1.2.1.h5\n",
            "228/228 [==============================] - 1s 3ms/step - loss: 5.4209e-04 - acc: 0.0048 - val_loss: 1.1760e-04 - val_acc: 0.0000e+00\n"
          ],
          "name": "stdout"
        }
      ]
    },
    {
      "cell_type": "code",
      "metadata": {
        "id": "NG2n5wzubtRR"
      },
      "source": [
        "output = model.predict(X_train)"
      ],
      "execution_count": null,
      "outputs": []
    },
    {
      "cell_type": "code",
      "metadata": {
        "id": "cxfhJDgEjk1k",
        "colab": {
          "base_uri": "https://localhost:8080/"
        },
        "outputId": "37001f34-fafb-4f81-af91-7a7821a5d024"
      },
      "source": [
        "print(output[0])"
      ],
      "execution_count": null,
      "outputs": [
        {
          "output_type": "stream",
          "text": [
            "[ 1.00039637e+00  9.98771608e-01 -8.37161299e-03  1.01358473e+00\n",
            " -9.28092655e-03  9.80484366e-01 -1.03096967e-03  1.00681603e+00\n",
            " -3.00645013e-03  1.00109184e+00  1.00712824e+00 -2.18719570e-03\n",
            " -6.63147133e-04 -1.08029395e-02 -6.32686191e-04  7.98669457e-03\n",
            "  1.00072598e+00 -6.18609227e-03  1.00607383e+00  2.14610994e-02\n",
            "  9.99708354e-01  3.14148515e-03 -3.78877227e-03  1.00326884e+00\n",
            "  1.00479007e+00 -8.91046226e-03  1.00597274e+00 -1.48294624e-02\n",
            " -5.54845482e-03  1.05174929e-02  1.00167227e+00 -9.74180584e-04]\n"
          ],
          "name": "stdout"
        }
      ]
    },
    {
      "cell_type": "code",
      "metadata": {
        "id": "i2EM52czjp3d",
        "colab": {
          "base_uri": "https://localhost:8080/"
        },
        "outputId": "768ad9cc-2bc3-4b92-be9f-789ba978b241"
      },
      "source": [
        "print(Y_train[0])"
      ],
      "execution_count": null,
      "outputs": [
        {
          "output_type": "stream",
          "text": [
            "[1 1 0 1 0 1 0 1 0 1 1 0 0 0 0 0 1 0 1 0 1 0 0 1 1 0 1 0 0 0 1 0]\n"
          ],
          "name": "stdout"
        }
      ]
    },
    {
      "cell_type": "code",
      "metadata": {
        "id": "6udUI3uBQqY8",
        "colab": {
          "base_uri": "https://localhost:8080/"
        },
        "outputId": "a0a01387-1c0b-4e2e-be9b-f7a93f752ba9"
      },
      "source": [
        "print(output.shape)"
      ],
      "execution_count": null,
      "outputs": [
        {
          "output_type": "stream",
          "text": [
            "(8076, 32)\n"
          ],
          "name": "stdout"
        }
      ]
    },
    {
      "cell_type": "code",
      "metadata": {
        "id": "42-FGlV9ezAb"
      },
      "source": [
        "def change_output(arr):\n",
        "    '''' Rounding off the confident outputs '''\n",
        "    row=arr.shape[0]\n",
        "    col=arr.shape[1]\n",
        "    for i in range(row):\n",
        "      for j in range(col):\n",
        "        if(arr[i][j]>0.5):\n",
        "          arr[i][j]=1\n",
        "        else:\n",
        "          arr[i][j]=0\n",
        "          \n",
        "    arr.astype('int')\n",
        "    return(arr)    "
      ],
      "execution_count": null,
      "outputs": []
    },
    {
      "cell_type": "code",
      "metadata": {
        "id": "KThKObMJQ9ZL"
      },
      "source": [
        "def accuracy(Y_pred, Y_train):\n",
        "    ''' Given the predicted array, it compares it with the hashmap and gives the accuracy score '''\n",
        "    Y_pred_int = change_output(Y_pred)\n",
        "    print(\"Accuracy for the given batch is :\", accuracy_score(Y_pred, Y_train) * 100 , \" % \")"
      ],
      "execution_count": null,
      "outputs": []
    },
    {
      "cell_type": "code",
      "metadata": {
        "id": "ddy_IWe2Apai",
        "colab": {
          "base_uri": "https://localhost:8080/"
        },
        "outputId": "2d311d59-6ac6-44c3-95e4-cde4b96acd4f"
      },
      "source": [
        "Y_pred = model.predict(X_train)\n",
        "accuracy(Y_pred, Y_train)"
      ],
      "execution_count": null,
      "outputs": [
        {
          "output_type": "stream",
          "text": [
            "Accuracy for the given batch is : 100.0  % \n"
          ],
          "name": "stdout"
        }
      ]
    },
    {
      "cell_type": "code",
      "metadata": {
        "id": "3qA1Xn9ASVSF",
        "colab": {
          "base_uri": "https://localhost:8080/"
        },
        "outputId": "fb740822-23e6-41f0-e781-ce9da480e924"
      },
      "source": [
        "print(Y_train.shape)"
      ],
      "execution_count": null,
      "outputs": [
        {
          "output_type": "stream",
          "text": [
            "(8076, 32)\n"
          ],
          "name": "stdout"
        }
      ]
    },
    {
      "cell_type": "code",
      "metadata": {
        "id": "eLMc22jToFSe",
        "colab": {
          "base_uri": "https://localhost:8080/"
        },
        "outputId": "dccfac87-d249-4010-bb96-aa997670ee63"
      },
      "source": [
        "Y_test_pred = model.predict(X_test)\n",
        "accuracy(Y_test_pred, Y_test)"
      ],
      "execution_count": null,
      "outputs": [
        {
          "output_type": "stream",
          "text": [
            "Accuracy for the given batch is : 100.0  % \n"
          ],
          "name": "stdout"
        }
      ]
    },
    {
      "cell_type": "code",
      "metadata": {
        "id": "NIYzzBEovVUS",
        "colab": {
          "base_uri": "https://localhost:8080/"
        },
        "outputId": "2d265227-4420-4dc3-950f-6a4846183e78"
      },
      "source": [
        "# serialize model to JSON\n",
        "model_json = model.to_json()\n",
        "with open(\"encrypter_v1_2_1.json\", \"w\") as json_file:\n",
        "    json_file.write(model_json)\n",
        "# serialize weights to HDF5\n",
        "model.save_weights(\"encrypter_v1_2_1.h5\")\n",
        "print(\"Saved model to disk\")"
      ],
      "execution_count": null,
      "outputs": [
        {
          "output_type": "stream",
          "text": [
            "Saved model to disk\n"
          ],
          "name": "stdout"
        }
      ]
    },
    {
      "cell_type": "code",
      "metadata": {
        "id": "xHVqGmOg_JAx",
        "colab": {
          "base_uri": "https://localhost:8080/",
          "height": 35
        },
        "outputId": "ff8cef55-417e-4516-b8b9-51a44d0bd30c"
      },
      "source": [
        "# load json and create model\n",
        "json_file = open('/content/encrypter_v1_2_1.json', 'r')\n",
        "loaded_model_json = json_file.read()\n",
        "json_file.close()\n",
        "loaded_model = model_from_json(loaded_model_json)\n",
        "# load weights into new model\n",
        "loaded_model.load_weights(\"/content/encrypter_v1_2_1.h5\")\n",
        "print(\"Loaded model from disk\")"
      ],
      "execution_count": null,
      "outputs": [
        {
          "output_type": "stream",
          "text": [
            "Loaded model from disk\n"
          ],
          "name": "stdout"
        }
      ]
    },
    {
      "cell_type": "code",
      "metadata": {
        "id": "dUCOiGiR_XX8",
        "colab": {
          "base_uri": "https://localhost:8080/",
          "height": 35
        },
        "outputId": "2c7f9751-1721-499d-b668-aad0e017b519"
      },
      "source": [
        "print(\"Encrypter can be loaded and run\")"
      ],
      "execution_count": null,
      "outputs": [
        {
          "output_type": "stream",
          "text": [
            "Encrypter can be loaded and run\n"
          ],
          "name": "stdout"
        }
      ]
    },
    {
      "cell_type": "code",
      "metadata": {
        "id": "AjmBxjI6R2ek"
      },
      "source": [
        "decrypter = Sequential()\n",
        "\n",
        "decrypter.add(layers.Dense(32, input_shape = (32,)))\n",
        "decrypter.add(layers.LeakyReLU())\n",
        "\n",
        "decrypter.add(layers.Dense(40))\n",
        "decrypter.add(layers.LeakyReLU())\n",
        "\n",
        "decrypter.add(layers.Dense(46))\n",
        "decrypter.add(layers.LeakyReLU())\n",
        "\n",
        "decrypter.add(layers.Dense(54))\n",
        "decrypter.add(layers.LeakyReLU())\n",
        "\n",
        "decrypter.add(layers.Dense(64))\n",
        "decrypter.add(layers.LeakyReLU())\n",
        "\n",
        "decrypter.add(layers.Dense(91))\n",
        "decrypter.add(layers.LeakyReLU())\n",
        "\n",
        "decrypter.add(layers.Dense(91))\n",
        "decrypter.add(layers.LeakyReLU())\n",
        "\n",
        "decrypter.add(layers.Dense(91))\n",
        "decrypter.add(layers.LeakyReLU())\n"
      ],
      "execution_count": null,
      "outputs": []
    },
    {
      "cell_type": "code",
      "metadata": {
        "id": "vaLReXz2T295"
      },
      "source": [
        "learning_rate = 0.0015\n",
        "epochs = 100\n",
        "batch_size = None"
      ],
      "execution_count": null,
      "outputs": []
    },
    {
      "cell_type": "code",
      "metadata": {
        "id": "Vhs2BefhVXOh"
      },
      "source": [
        "decrypter_optimizer = optimizers.Adam(lr = learning_rate)"
      ],
      "execution_count": null,
      "outputs": []
    },
    {
      "cell_type": "code",
      "metadata": {
        "id": "-pkRbDzwVUEk"
      },
      "source": [
        "decrypter.compile(optimizer=decrypter_optimizer, loss = 'mean_squared_error', metrics = ['acc'])"
      ],
      "execution_count": null,
      "outputs": []
    },
    {
      "cell_type": "code",
      "metadata": {
        "id": "5KtULAzpVMnB"
      },
      "source": [
        "decrypter_X_train = Y_train\n",
        "decrypter_Y_train = X_train"
      ],
      "execution_count": null,
      "outputs": []
    },
    {
      "cell_type": "code",
      "metadata": {
        "id": "ULve7e9hBMyz"
      },
      "source": [
        "decrypter_X_test = Y_test_pred\n",
        "decrypter_Y_test = X_test"
      ],
      "execution_count": null,
      "outputs": []
    },
    {
      "cell_type": "code",
      "metadata": {
        "id": "eUvLtRt_WE2z",
        "colab": {
          "base_uri": "https://localhost:8080/"
        },
        "outputId": "c54fee01-b7ae-408a-9077-429321b8c339"
      },
      "source": [
        "print(decrypter_X_train.shape)\n",
        "print(decrypter_Y_train.shape)"
      ],
      "execution_count": null,
      "outputs": [
        {
          "output_type": "stream",
          "text": [
            "(8076, 32)\n",
            "(8076, 91)\n"
          ],
          "name": "stdout"
        }
      ]
    },
    {
      "cell_type": "code",
      "metadata": {
        "id": "aQnr82iGBmXD",
        "colab": {
          "base_uri": "https://localhost:8080/"
        },
        "outputId": "ca48397f-c41b-4e18-be8d-e2e07aa8e219"
      },
      "source": [
        "print(decrypter_X_test.shape)\n",
        "print(decrypter_Y_test.shape)"
      ],
      "execution_count": null,
      "outputs": [
        {
          "output_type": "stream",
          "text": [
            "(49, 32)\n",
            "(49, 91)\n"
          ],
          "name": "stdout"
        }
      ]
    },
    {
      "cell_type": "code",
      "metadata": {
        "id": "l24tT32UWJ_K"
      },
      "source": [
        "checkpoint = ModelCheckpoint('/content/denrypt_1.2.h5', monitor = 'val_loss', verbose = 1, save_best_only = True, save_weights_only = True)\n",
        "reducelr = ReduceLROnPlateau(monitor = 'val_loss', verbose = 1, patience = 5,factor = 0.05, min_lr = 0.003)"
      ],
      "execution_count": null,
      "outputs": []
    },
    {
      "cell_type": "code",
      "metadata": {
        "id": "Y2FyLCfgXuJM",
        "colab": {
          "base_uri": "https://localhost:8080/"
        },
        "outputId": "8aaf8a75-7426-487e-815a-86820b43b261"
      },
      "source": [
        "decrypter_history = decrypter.fit(decrypter_X_train, decrypter_Y_train,\n",
        "                              batch_size = None,\n",
        "                              epochs = epochs, verbose = 1,\n",
        "                              callbacks = [checkpoint, reducelr],\n",
        "                              validation_split = 0.1)"
      ],
      "execution_count": null,
      "outputs": [
        {
          "output_type": "stream",
          "text": [
            "Epoch 1/100\n",
            "227/228 [============================>.] - ETA: 0s - loss: 0.0048 - acc: 0.8476\n",
            "Epoch 00001: val_loss improved from inf to 0.00151, saving model to /content/denrypt_1.2.h5\n",
            "228/228 [==============================] - 1s 3ms/step - loss: 0.0048 - acc: 0.8477 - val_loss: 0.0015 - val_acc: 1.0000\n",
            "Epoch 2/100\n",
            "220/228 [===========================>..] - ETA: 0s - loss: 9.0936e-04 - acc: 1.0000\n",
            "Epoch 00002: val_loss improved from 0.00151 to 0.00058, saving model to /content/denrypt_1.2.h5\n",
            "228/228 [==============================] - 1s 3ms/step - loss: 8.9890e-04 - acc: 1.0000 - val_loss: 5.7849e-04 - val_acc: 1.0000\n",
            "Epoch 3/100\n",
            "213/228 [===========================>..] - ETA: 0s - loss: 4.4704e-04 - acc: 1.0000\n",
            "Epoch 00003: val_loss improved from 0.00058 to 0.00035, saving model to /content/denrypt_1.2.h5\n",
            "228/228 [==============================] - 1s 3ms/step - loss: 4.3942e-04 - acc: 1.0000 - val_loss: 3.4700e-04 - val_acc: 1.0000\n",
            "Epoch 4/100\n",
            "217/228 [===========================>..] - ETA: 0s - loss: 2.6563e-04 - acc: 1.0000\n",
            "Epoch 00004: val_loss improved from 0.00035 to 0.00022, saving model to /content/denrypt_1.2.h5\n",
            "228/228 [==============================] - 1s 3ms/step - loss: 2.6253e-04 - acc: 1.0000 - val_loss: 2.1610e-04 - val_acc: 1.0000\n",
            "Epoch 5/100\n",
            "213/228 [===========================>..] - ETA: 0s - loss: 1.6993e-04 - acc: 1.0000\n",
            "Epoch 00005: val_loss improved from 0.00022 to 0.00014, saving model to /content/denrypt_1.2.h5\n",
            "228/228 [==============================] - 1s 3ms/step - loss: 1.6741e-04 - acc: 1.0000 - val_loss: 1.3999e-04 - val_acc: 1.0000\n",
            "Epoch 6/100\n",
            "215/228 [===========================>..] - ETA: 0s - loss: 1.0649e-04 - acc: 1.0000\n",
            "Epoch 00006: val_loss improved from 0.00014 to 0.00008, saving model to /content/denrypt_1.2.h5\n",
            "228/228 [==============================] - 1s 3ms/step - loss: 1.0503e-04 - acc: 1.0000 - val_loss: 8.0225e-05 - val_acc: 1.0000\n",
            "Epoch 7/100\n",
            "226/228 [============================>.] - ETA: 0s - loss: 6.6113e-05 - acc: 1.0000\n",
            "Epoch 00007: val_loss improved from 0.00008 to 0.00006, saving model to /content/denrypt_1.2.h5\n",
            "228/228 [==============================] - 1s 3ms/step - loss: 6.6054e-05 - acc: 1.0000 - val_loss: 6.4235e-05 - val_acc: 1.0000\n",
            "Epoch 8/100\n",
            "210/228 [==========================>...] - ETA: 0s - loss: 4.8888e-05 - acc: 1.0000\n",
            "Epoch 00008: val_loss improved from 0.00006 to 0.00004, saving model to /content/denrypt_1.2.h5\n",
            "228/228 [==============================] - 1s 3ms/step - loss: 4.7812e-05 - acc: 1.0000 - val_loss: 4.4163e-05 - val_acc: 1.0000\n",
            "Epoch 9/100\n",
            "218/228 [===========================>..] - ETA: 0s - loss: 2.7456e-05 - acc: 1.0000\n",
            "Epoch 00009: val_loss improved from 0.00004 to 0.00003, saving model to /content/denrypt_1.2.h5\n",
            "228/228 [==============================] - 1s 3ms/step - loss: 2.7447e-05 - acc: 1.0000 - val_loss: 3.2594e-05 - val_acc: 1.0000\n",
            "Epoch 10/100\n",
            "225/228 [============================>.] - ETA: 0s - loss: 3.0638e-05 - acc: 1.0000\n",
            "Epoch 00010: val_loss improved from 0.00003 to 0.00002, saving model to /content/denrypt_1.2.h5\n",
            "228/228 [==============================] - 1s 3ms/step - loss: 3.0485e-05 - acc: 1.0000 - val_loss: 1.8643e-05 - val_acc: 1.0000\n",
            "Epoch 11/100\n",
            "211/228 [==========================>...] - ETA: 0s - loss: 2.9457e-05 - acc: 1.0000\n",
            "Epoch 00011: val_loss did not improve from 0.00002\n",
            "228/228 [==============================] - 1s 3ms/step - loss: 3.1728e-05 - acc: 1.0000 - val_loss: 9.4931e-05 - val_acc: 1.0000\n",
            "Epoch 12/100\n",
            "217/228 [===========================>..] - ETA: 0s - loss: 5.9083e-05 - acc: 1.0000\n",
            "Epoch 00012: val_loss improved from 0.00002 to 0.00000, saving model to /content/denrypt_1.2.h5\n",
            "228/228 [==============================] - 1s 3ms/step - loss: 5.6625e-05 - acc: 1.0000 - val_loss: 3.8158e-06 - val_acc: 1.0000\n",
            "Epoch 13/100\n",
            "217/228 [===========================>..] - ETA: 0s - loss: 1.8418e-06 - acc: 1.0000\n",
            "Epoch 00013: val_loss improved from 0.00000 to 0.00000, saving model to /content/denrypt_1.2.h5\n",
            "228/228 [==============================] - 1s 3ms/step - loss: 1.7993e-06 - acc: 1.0000 - val_loss: 1.2363e-06 - val_acc: 1.0000\n",
            "Epoch 14/100\n",
            "219/228 [===========================>..] - ETA: 0s - loss: 2.5132e-06 - acc: 1.0000\n",
            "Epoch 00014: val_loss did not improve from 0.00000\n",
            "228/228 [==============================] - 1s 3ms/step - loss: 2.6836e-06 - acc: 1.0000 - val_loss: 1.0010e-05 - val_acc: 1.0000\n",
            "Epoch 15/100\n",
            "226/228 [============================>.] - ETA: 0s - loss: 4.4099e-05 - acc: 1.0000\n",
            "Epoch 00015: val_loss did not improve from 0.00000\n",
            "228/228 [==============================] - 1s 3ms/step - loss: 4.4366e-05 - acc: 1.0000 - val_loss: 1.2515e-04 - val_acc: 1.0000\n",
            "Epoch 16/100\n",
            "216/228 [===========================>..] - ETA: 0s - loss: 7.8622e-05 - acc: 1.0000\n",
            "Epoch 00016: val_loss did not improve from 0.00000\n",
            "228/228 [==============================] - 1s 3ms/step - loss: 7.5003e-05 - acc: 1.0000 - val_loss: 4.9190e-06 - val_acc: 1.0000\n",
            "Epoch 17/100\n",
            "211/228 [==========================>...] - ETA: 0s - loss: 1.5225e-06 - acc: 1.0000\n",
            "Epoch 00017: val_loss improved from 0.00000 to 0.00000, saving model to /content/denrypt_1.2.h5\n",
            "228/228 [==============================] - 1s 3ms/step - loss: 1.4315e-06 - acc: 1.0000 - val_loss: 2.3127e-07 - val_acc: 1.0000\n",
            "Epoch 18/100\n",
            "223/228 [============================>.] - ETA: 0s - loss: 1.9434e-07 - acc: 1.0000\n",
            "Epoch 00018: val_loss did not improve from 0.00000\n",
            "228/228 [==============================] - 1s 3ms/step - loss: 1.9678e-07 - acc: 1.0000 - val_loss: 5.7326e-07 - val_acc: 1.0000\n",
            "Epoch 19/100\n",
            "225/228 [============================>.] - ETA: 0s - loss: 1.1351e-05 - acc: 1.0000\n",
            "Epoch 00019: val_loss did not improve from 0.00000\n",
            "228/228 [==============================] - 1s 3ms/step - loss: 1.1546e-05 - acc: 1.0000 - val_loss: 4.8483e-05 - val_acc: 1.0000\n",
            "Epoch 20/100\n",
            "217/228 [===========================>..] - ETA: 0s - loss: 9.5572e-05 - acc: 1.0000\n",
            "Epoch 00020: val_loss did not improve from 0.00000\n",
            "228/228 [==============================] - 1s 3ms/step - loss: 9.1705e-05 - acc: 1.0000 - val_loss: 9.4275e-06 - val_acc: 1.0000\n",
            "Epoch 21/100\n",
            "220/228 [===========================>..] - ETA: 0s - loss: 2.4533e-06 - acc: 1.0000\n",
            "Epoch 00021: val_loss did not improve from 0.00000\n",
            "228/228 [==============================] - 1s 3ms/step - loss: 2.3834e-06 - acc: 1.0000 - val_loss: 2.5863e-07 - val_acc: 1.0000\n",
            "Epoch 22/100\n",
            "218/228 [===========================>..] - ETA: 0s - loss: 1.6679e-07 - acc: 1.0000\n",
            "Epoch 00022: val_loss improved from 0.00000 to 0.00000, saving model to /content/denrypt_1.2.h5\n",
            "228/228 [==============================] - 1s 3ms/step - loss: 1.6576e-07 - acc: 1.0000 - val_loss: 2.0006e-07 - val_acc: 1.0000\n",
            "Epoch 23/100\n",
            "212/228 [==========================>...] - ETA: 0s - loss: 3.2339e-07 - acc: 1.0000\n",
            "Epoch 00023: val_loss did not improve from 0.00000\n",
            "228/228 [==============================] - 1s 3ms/step - loss: 3.8204e-07 - acc: 1.0000 - val_loss: 2.1186e-06 - val_acc: 1.0000\n",
            "Epoch 24/100\n",
            "215/228 [===========================>..] - ETA: 0s - loss: 1.5617e-05 - acc: 1.0000\n",
            "Epoch 00024: val_loss did not improve from 0.00000\n",
            "228/228 [==============================] - 1s 3ms/step - loss: 1.8077e-05 - acc: 1.0000 - val_loss: 8.5830e-05 - val_acc: 1.0000\n",
            "Epoch 25/100\n",
            "221/228 [============================>.] - ETA: 0s - loss: 1.3184e-04 - acc: 1.0000\n",
            "Epoch 00025: val_loss did not improve from 0.00000\n",
            "228/228 [==============================] - 1s 3ms/step - loss: 1.2876e-04 - acc: 1.0000 - val_loss: 2.3320e-05 - val_acc: 1.0000\n",
            "Epoch 26/100\n",
            "213/228 [===========================>..] - ETA: 0s - loss: 4.8913e-06 - acc: 1.0000\n",
            "Epoch 00026: val_loss did not improve from 0.00000\n",
            "228/228 [==============================] - 1s 3ms/step - loss: 4.6047e-06 - acc: 1.0000 - val_loss: 2.5786e-07 - val_acc: 1.0000\n",
            "Epoch 27/100\n",
            "211/228 [==========================>...] - ETA: 0s - loss: 1.1644e-07 - acc: 1.0000\n",
            "Epoch 00027: val_loss improved from 0.00000 to 0.00000, saving model to /content/denrypt_1.2.h5\n",
            "228/228 [==============================] - 1s 3ms/step - loss: 1.1062e-07 - acc: 1.0000 - val_loss: 3.3988e-08 - val_acc: 1.0000\n",
            "Epoch 28/100\n",
            "211/228 [==========================>...] - ETA: 0s - loss: 4.7325e-08 - acc: 1.0000\n",
            "Epoch 00028: val_loss did not improve from 0.00000\n",
            "228/228 [==============================] - 1s 3ms/step - loss: 5.1225e-08 - acc: 1.0000 - val_loss: 1.8615e-07 - val_acc: 1.0000\n",
            "Epoch 29/100\n",
            "216/228 [===========================>..] - ETA: 0s - loss: 1.1011e-06 - acc: 1.0000\n",
            "Epoch 00029: val_loss did not improve from 0.00000\n",
            "228/228 [==============================] - 1s 3ms/step - loss: 1.1581e-06 - acc: 1.0000 - val_loss: 3.4734e-06 - val_acc: 1.0000\n",
            "Epoch 30/100\n",
            "226/228 [============================>.] - ETA: 0s - loss: 4.8837e-05 - acc: 1.0000\n",
            "Epoch 00030: val_loss did not improve from 0.00000\n",
            "228/228 [==============================] - 1s 3ms/step - loss: 4.9166e-05 - acc: 1.0000 - val_loss: 1.7361e-04 - val_acc: 1.0000\n",
            "Epoch 31/100\n",
            "209/228 [==========================>...] - ETA: 0s - loss: 5.4007e-05 - acc: 1.0000\n",
            "Epoch 00031: val_loss did not improve from 0.00000\n",
            "228/228 [==============================] - 1s 3ms/step - loss: 5.0057e-05 - acc: 1.0000 - val_loss: 4.5155e-06 - val_acc: 1.0000\n",
            "Epoch 32/100\n",
            "213/228 [===========================>..] - ETA: 0s - loss: 1.6082e-06 - acc: 1.0000\n",
            "Epoch 00032: val_loss did not improve from 0.00000\n",
            "228/228 [==============================] - 1s 3ms/step - loss: 1.5227e-06 - acc: 1.0000 - val_loss: 2.3455e-07 - val_acc: 1.0000\n",
            "Epoch 33/100\n",
            "211/228 [==========================>...] - ETA: 0s - loss: 1.2654e-07 - acc: 1.0000\n",
            "Epoch 00033: val_loss did not improve from 0.00000\n",
            "228/228 [==============================] - 1s 3ms/step - loss: 1.2817e-07 - acc: 1.0000 - val_loss: 1.9097e-07 - val_acc: 1.0000\n",
            "Epoch 34/100\n",
            "225/228 [============================>.] - ETA: 0s - loss: 4.1644e-06 - acc: 1.0000\n",
            "Epoch 00034: val_loss did not improve from 0.00000\n",
            "228/228 [==============================] - 1s 3ms/step - loss: 4.4199e-06 - acc: 1.0000 - val_loss: 3.7861e-05 - val_acc: 1.0000\n",
            "Epoch 35/100\n",
            "227/228 [============================>.] - ETA: 0s - loss: 1.0921e-04 - acc: 1.0000\n",
            "Epoch 00035: val_loss did not improve from 0.00000\n",
            "228/228 [==============================] - 1s 3ms/step - loss: 1.0916e-04 - acc: 1.0000 - val_loss: 1.2989e-05 - val_acc: 1.0000\n",
            "Epoch 36/100\n",
            "222/228 [============================>.] - ETA: 0s - loss: 4.0344e-06 - acc: 1.0000\n",
            "Epoch 00036: val_loss did not improve from 0.00000\n",
            "228/228 [==============================] - 1s 3ms/step - loss: 3.9492e-06 - acc: 1.0000 - val_loss: 3.3727e-07 - val_acc: 1.0000\n",
            "Epoch 37/100\n",
            "223/228 [============================>.] - ETA: 0s - loss: 1.8703e-07 - acc: 1.0000\n",
            "Epoch 00037: val_loss did not improve from 0.00000\n",
            "228/228 [==============================] - 1s 3ms/step - loss: 1.8677e-07 - acc: 1.0000 - val_loss: 2.5299e-07 - val_acc: 1.0000\n",
            "Epoch 38/100\n",
            "225/228 [============================>.] - ETA: 0s - loss: 1.4171e-06 - acc: 1.0000\n",
            "Epoch 00038: val_loss did not improve from 0.00000\n",
            "228/228 [==============================] - 1s 3ms/step - loss: 1.4490e-06 - acc: 1.0000 - val_loss: 7.1701e-06 - val_acc: 1.0000\n",
            "Epoch 39/100\n",
            "224/228 [============================>.] - ETA: 0s - loss: 5.8139e-05 - acc: 1.0000\n",
            "Epoch 00039: val_loss did not improve from 0.00000\n",
            "228/228 [==============================] - 1s 3ms/step - loss: 5.8578e-05 - acc: 1.0000 - val_loss: 1.1122e-04 - val_acc: 1.0000\n",
            "Epoch 40/100\n",
            "227/228 [============================>.] - ETA: 0s - loss: 2.8174e-05 - acc: 1.0000\n",
            "Epoch 00040: val_loss did not improve from 0.00000\n",
            "228/228 [==============================] - 1s 3ms/step - loss: 2.8159e-05 - acc: 1.0000 - val_loss: 1.2038e-06 - val_acc: 1.0000\n",
            "Epoch 41/100\n",
            "227/228 [============================>.] - ETA: 0s - loss: 6.5809e-07 - acc: 1.0000\n",
            "Epoch 00041: val_loss did not improve from 0.00000\n",
            "228/228 [==============================] - 1s 3ms/step - loss: 6.5786e-07 - acc: 1.0000 - val_loss: 3.1960e-07 - val_acc: 1.0000\n",
            "Epoch 42/100\n",
            "224/228 [============================>.] - ETA: 0s - loss: 7.7434e-07 - acc: 1.0000\n",
            "Epoch 00042: val_loss did not improve from 0.00000\n",
            "228/228 [==============================] - 1s 3ms/step - loss: 7.8239e-07 - acc: 1.0000 - val_loss: 2.2074e-06 - val_acc: 1.0000\n",
            "Epoch 43/100\n",
            "227/228 [============================>.] - ETA: 0s - loss: 2.8933e-05 - acc: 1.0000\n",
            "Epoch 00043: val_loss did not improve from 0.00000\n",
            "228/228 [==============================] - 1s 3ms/step - loss: 2.8936e-05 - acc: 1.0000 - val_loss: 6.4663e-05 - val_acc: 1.0000\n",
            "Epoch 44/100\n",
            "212/228 [==========================>...] - ETA: 0s - loss: 4.2100e-05 - acc: 1.0000\n",
            "Epoch 00044: val_loss did not improve from 0.00000\n",
            "228/228 [==============================] - 1s 3ms/step - loss: 3.9569e-05 - acc: 1.0000 - val_loss: 6.4814e-06 - val_acc: 1.0000\n",
            "Epoch 45/100\n",
            "224/228 [============================>.] - ETA: 0s - loss: 6.9290e-06 - acc: 1.0000\n",
            "Epoch 00045: val_loss did not improve from 0.00000\n",
            "228/228 [==============================] - 1s 3ms/step - loss: 6.8939e-06 - acc: 1.0000 - val_loss: 5.2678e-06 - val_acc: 1.0000\n",
            "Epoch 46/100\n",
            "222/228 [============================>.] - ETA: 0s - loss: 2.0076e-05 - acc: 1.0000\n",
            "Epoch 00046: val_loss did not improve from 0.00000\n",
            "228/228 [==============================] - 1s 3ms/step - loss: 2.0659e-05 - acc: 1.0000 - val_loss: 6.4586e-05 - val_acc: 1.0000\n",
            "Epoch 47/100\n",
            "221/228 [============================>.] - ETA: 0s - loss: 2.9554e-05 - acc: 1.0000\n",
            "Epoch 00047: val_loss did not improve from 0.00000\n",
            "228/228 [==============================] - 1s 3ms/step - loss: 2.8937e-05 - acc: 1.0000 - val_loss: 8.6895e-06 - val_acc: 1.0000\n",
            "Epoch 48/100\n",
            "215/228 [===========================>..] - ETA: 0s - loss: 8.1737e-06 - acc: 1.0000\n",
            "Epoch 00048: val_loss did not improve from 0.00000\n",
            "228/228 [==============================] - 1s 3ms/step - loss: 8.0346e-06 - acc: 1.0000 - val_loss: 7.8628e-06 - val_acc: 1.0000\n",
            "Epoch 49/100\n",
            "221/228 [============================>.] - ETA: 0s - loss: 3.2932e-05 - acc: 1.0000\n",
            "Epoch 00049: val_loss did not improve from 0.00000\n",
            "228/228 [==============================] - 1s 3ms/step - loss: 3.2978e-05 - acc: 1.0000 - val_loss: 5.6089e-05 - val_acc: 1.0000\n",
            "Epoch 50/100\n",
            "219/228 [===========================>..] - ETA: 0s - loss: 4.4455e-05 - acc: 1.0000\n",
            "Epoch 00050: val_loss did not improve from 0.00000\n",
            "228/228 [==============================] - 1s 3ms/step - loss: 4.3019e-05 - acc: 1.0000 - val_loss: 4.4485e-06 - val_acc: 1.0000\n",
            "Epoch 51/100\n",
            "208/228 [==========================>...] - ETA: 0s - loss: 6.4941e-06 - acc: 1.0000\n",
            "Epoch 00051: val_loss did not improve from 0.00000\n",
            "228/228 [==============================] - 1s 3ms/step - loss: 6.5413e-06 - acc: 1.0000 - val_loss: 7.1448e-06 - val_acc: 1.0000\n",
            "Epoch 52/100\n",
            "223/228 [============================>.] - ETA: 0s - loss: 3.9693e-06 - acc: 1.0000\n",
            "Epoch 00052: val_loss did not improve from 0.00000\n",
            "228/228 [==============================] - 1s 3ms/step - loss: 3.9213e-06 - acc: 1.0000 - val_loss: 1.6233e-06 - val_acc: 1.0000\n",
            "Epoch 53/100\n",
            "217/228 [===========================>..] - ETA: 0s - loss: 3.5695e-06 - acc: 1.0000\n",
            "Epoch 00053: val_loss did not improve from 0.00000\n",
            "228/228 [==============================] - 1s 3ms/step - loss: 3.9190e-06 - acc: 1.0000 - val_loss: 1.3627e-05 - val_acc: 1.0000\n",
            "Epoch 54/100\n",
            "215/228 [===========================>..] - ETA: 0s - loss: 2.5385e-05 - acc: 1.0000\n",
            "Epoch 00054: val_loss did not improve from 0.00000\n",
            "228/228 [==============================] - 1s 3ms/step - loss: 2.6380e-05 - acc: 1.0000 - val_loss: 5.2976e-05 - val_acc: 1.0000\n",
            "Epoch 55/100\n",
            "221/228 [============================>.] - ETA: 0s - loss: 3.2972e-05 - acc: 1.0000\n",
            "Epoch 00055: val_loss did not improve from 0.00000\n",
            "228/228 [==============================] - 1s 3ms/step - loss: 3.2309e-05 - acc: 1.0000 - val_loss: 8.9764e-06 - val_acc: 1.0000\n",
            "Epoch 56/100\n",
            "221/228 [============================>.] - ETA: 0s - loss: 2.7471e-05 - acc: 1.0000\n",
            "Epoch 00056: val_loss did not improve from 0.00000\n",
            "228/228 [==============================] - 1s 3ms/step - loss: 2.7441e-05 - acc: 1.0000 - val_loss: 2.6824e-05 - val_acc: 1.0000\n",
            "Epoch 57/100\n",
            "220/228 [===========================>..] - ETA: 0s - loss: 8.6230e-06 - acc: 1.0000\n",
            "Epoch 00057: val_loss did not improve from 0.00000\n",
            "228/228 [==============================] - 1s 3ms/step - loss: 8.4035e-06 - acc: 1.0000 - val_loss: 1.8441e-06 - val_acc: 1.0000\n",
            "Epoch 58/100\n",
            "216/228 [===========================>..] - ETA: 0s - loss: 3.6134e-06 - acc: 1.0000\n",
            "Epoch 00058: val_loss did not improve from 0.00000\n",
            "228/228 [==============================] - 1s 3ms/step - loss: 3.6888e-06 - acc: 1.0000 - val_loss: 6.3317e-06 - val_acc: 1.0000\n",
            "Epoch 59/100\n",
            "215/228 [===========================>..] - ETA: 0s - loss: 3.0870e-05 - acc: 1.0000\n",
            "Epoch 00059: val_loss did not improve from 0.00000\n",
            "228/228 [==============================] - 1s 3ms/step - loss: 3.2292e-05 - acc: 1.0000 - val_loss: 4.9198e-05 - val_acc: 1.0000\n",
            "Epoch 60/100\n",
            "228/228 [==============================] - ETA: 0s - loss: 2.1425e-05 - acc: 1.0000\n",
            "Epoch 00060: val_loss did not improve from 0.00000\n",
            "228/228 [==============================] - 1s 3ms/step - loss: 2.1425e-05 - acc: 1.0000 - val_loss: 8.8916e-06 - val_acc: 1.0000\n",
            "Epoch 61/100\n",
            "210/228 [==========================>...] - ETA: 0s - loss: 8.5173e-06 - acc: 1.0000\n",
            "Epoch 00061: val_loss did not improve from 0.00000\n",
            "228/228 [==============================] - 1s 3ms/step - loss: 8.3997e-06 - acc: 1.0000 - val_loss: 7.6910e-06 - val_acc: 1.0000\n",
            "Epoch 62/100\n",
            "222/228 [============================>.] - ETA: 0s - loss: 1.8676e-05 - acc: 1.0000\n",
            "Epoch 00062: val_loss did not improve from 0.00000\n",
            "228/228 [==============================] - 1s 3ms/step - loss: 1.8907e-05 - acc: 1.0000 - val_loss: 3.7954e-05 - val_acc: 1.0000\n",
            "Epoch 63/100\n",
            "209/228 [==========================>...] - ETA: 0s - loss: 1.8541e-05 - acc: 1.0000\n",
            "Epoch 00063: val_loss did not improve from 0.00000\n",
            "228/228 [==============================] - 1s 3ms/step - loss: 1.8001e-05 - acc: 1.0000 - val_loss: 1.1138e-05 - val_acc: 1.0000\n",
            "Epoch 64/100\n",
            "220/228 [===========================>..] - ETA: 0s - loss: 1.0739e-05 - acc: 1.0000\n",
            "Epoch 00064: val_loss did not improve from 0.00000\n",
            "228/228 [==============================] - 1s 3ms/step - loss: 1.1043e-05 - acc: 1.0000 - val_loss: 2.3332e-05 - val_acc: 1.0000\n",
            "Epoch 65/100\n",
            "228/228 [==============================] - ETA: 0s - loss: 2.4990e-05 - acc: 1.0000\n",
            "Epoch 00065: val_loss did not improve from 0.00000\n",
            "228/228 [==============================] - 1s 3ms/step - loss: 2.4990e-05 - acc: 1.0000 - val_loss: 3.9708e-05 - val_acc: 1.0000\n",
            "Epoch 66/100\n",
            "218/228 [===========================>..] - ETA: 0s - loss: 2.8399e-05 - acc: 1.0000\n",
            "Epoch 00066: val_loss did not improve from 0.00000\n",
            "228/228 [==============================] - 1s 3ms/step - loss: 2.7416e-05 - acc: 1.0000 - val_loss: 4.2214e-06 - val_acc: 1.0000\n",
            "Epoch 67/100\n",
            "212/228 [==========================>...] - ETA: 0s - loss: 3.8334e-06 - acc: 1.0000\n",
            "Epoch 00067: val_loss did not improve from 0.00000\n",
            "228/228 [==============================] - 1s 3ms/step - loss: 3.8049e-06 - acc: 1.0000 - val_loss: 4.0889e-06 - val_acc: 1.0000\n",
            "Epoch 68/100\n",
            "224/228 [============================>.] - ETA: 0s - loss: 2.4263e-05 - acc: 1.0000\n",
            "Epoch 00068: val_loss did not improve from 0.00000\n",
            "228/228 [==============================] - 1s 3ms/step - loss: 2.4532e-05 - acc: 1.0000 - val_loss: 3.8602e-05 - val_acc: 1.0000\n",
            "Epoch 69/100\n",
            "226/228 [============================>.] - ETA: 0s - loss: 2.4189e-05 - acc: 1.0000\n",
            "Epoch 00069: val_loss did not improve from 0.00000\n",
            "228/228 [==============================] - 1s 3ms/step - loss: 2.4098e-05 - acc: 1.0000 - val_loss: 1.0524e-05 - val_acc: 1.0000\n",
            "Epoch 70/100\n",
            "228/228 [==============================] - ETA: 0s - loss: 8.7543e-06 - acc: 1.0000\n",
            "Epoch 00070: val_loss did not improve from 0.00000\n",
            "228/228 [==============================] - 1s 3ms/step - loss: 8.7543e-06 - acc: 1.0000 - val_loss: 6.4309e-06 - val_acc: 1.0000\n",
            "Epoch 71/100\n",
            "225/228 [============================>.] - ETA: 0s - loss: 5.7714e-06 - acc: 1.0000\n",
            "Epoch 00071: val_loss did not improve from 0.00000\n",
            "228/228 [==============================] - 1s 3ms/step - loss: 5.8342e-06 - acc: 1.0000 - val_loss: 1.0195e-05 - val_acc: 1.0000\n",
            "Epoch 72/100\n",
            "224/228 [============================>.] - ETA: 0s - loss: 1.5394e-05 - acc: 1.0000\n",
            "Epoch 00072: val_loss did not improve from 0.00000\n",
            "228/228 [==============================] - 1s 3ms/step - loss: 1.5514e-05 - acc: 1.0000 - val_loss: 2.5704e-05 - val_acc: 1.0000\n",
            "Epoch 73/100\n",
            "226/228 [============================>.] - ETA: 0s - loss: 3.5483e-05 - acc: 1.0000\n",
            "Epoch 00073: val_loss did not improve from 0.00000\n",
            "228/228 [==============================] - 1s 3ms/step - loss: 3.5347e-05 - acc: 1.0000 - val_loss: 8.1784e-06 - val_acc: 1.0000\n",
            "Epoch 74/100\n",
            "228/228 [==============================] - ETA: 0s - loss: 9.9005e-06 - acc: 1.0000\n",
            "Epoch 00074: val_loss did not improve from 0.00000\n",
            "228/228 [==============================] - 1s 3ms/step - loss: 9.9005e-06 - acc: 1.0000 - val_loss: 2.9163e-06 - val_acc: 1.0000\n",
            "Epoch 75/100\n",
            "225/228 [============================>.] - ETA: 0s - loss: 2.0635e-06 - acc: 1.0000\n",
            "Epoch 00075: val_loss did not improve from 0.00000\n",
            "228/228 [==============================] - 1s 3ms/step - loss: 2.0582e-06 - acc: 1.0000 - val_loss: 1.6146e-06 - val_acc: 1.0000\n",
            "Epoch 76/100\n",
            "209/228 [==========================>...] - ETA: 0s - loss: 7.9885e-06 - acc: 1.0000\n",
            "Epoch 00076: val_loss did not improve from 0.00000\n",
            "228/228 [==============================] - 1s 3ms/step - loss: 8.2815e-06 - acc: 1.0000 - val_loss: 1.5600e-05 - val_acc: 1.0000\n",
            "Epoch 77/100\n",
            "210/228 [==========================>...] - ETA: 0s - loss: 5.4082e-05 - acc: 1.0000\n",
            "Epoch 00077: val_loss did not improve from 0.00000\n",
            "228/228 [==============================] - 1s 3ms/step - loss: 5.2985e-05 - acc: 1.0000 - val_loss: 3.1112e-05 - val_acc: 1.0000\n",
            "Epoch 78/100\n",
            "213/228 [===========================>..] - ETA: 0s - loss: 9.2326e-06 - acc: 1.0000\n",
            "Epoch 00078: val_loss did not improve from 0.00000\n",
            "228/228 [==============================] - 1s 3ms/step - loss: 8.7441e-06 - acc: 1.0000 - val_loss: 1.4794e-06 - val_acc: 1.0000\n",
            "Epoch 79/100\n",
            "218/228 [===========================>..] - ETA: 0s - loss: 8.7523e-07 - acc: 1.0000\n",
            "Epoch 00079: val_loss did not improve from 0.00000\n",
            "228/228 [==============================] - 1s 3ms/step - loss: 8.8725e-07 - acc: 1.0000 - val_loss: 1.3327e-06 - val_acc: 1.0000\n",
            "Epoch 80/100\n",
            "224/228 [============================>.] - ETA: 0s - loss: 1.0991e-05 - acc: 1.0000\n",
            "Epoch 00080: val_loss did not improve from 0.00000\n",
            "228/228 [==============================] - 1s 3ms/step - loss: 1.1394e-05 - acc: 1.0000 - val_loss: 5.1136e-05 - val_acc: 1.0000\n",
            "Epoch 81/100\n",
            "228/228 [==============================] - ETA: 0s - loss: 2.8885e-05 - acc: 1.0000\n",
            "Epoch 00081: val_loss did not improve from 0.00000\n",
            "228/228 [==============================] - 1s 3ms/step - loss: 2.8885e-05 - acc: 1.0000 - val_loss: 2.3239e-05 - val_acc: 1.0000\n",
            "Epoch 82/100\n",
            "224/228 [============================>.] - ETA: 0s - loss: 3.7512e-05 - acc: 1.0000\n",
            "Epoch 00082: val_loss did not improve from 0.00000\n",
            "228/228 [==============================] - 1s 3ms/step - loss: 3.7024e-05 - acc: 1.0000 - val_loss: 2.1396e-06 - val_acc: 1.0000\n",
            "Epoch 83/100\n",
            "226/228 [============================>.] - ETA: 0s - loss: 6.5000e-07 - acc: 1.0000\n",
            "Epoch 00083: val_loss did not improve from 0.00000\n",
            "228/228 [==============================] - 1s 3ms/step - loss: 6.4760e-07 - acc: 1.0000 - val_loss: 2.7909e-07 - val_acc: 1.0000\n",
            "Epoch 84/100\n",
            "223/228 [============================>.] - ETA: 0s - loss: 1.5557e-06 - acc: 1.0000\n",
            "Epoch 00084: val_loss did not improve from 0.00000\n",
            "228/228 [==============================] - 1s 3ms/step - loss: 1.5715e-06 - acc: 1.0000 - val_loss: 2.8679e-06 - val_acc: 1.0000\n",
            "Epoch 85/100\n",
            "224/228 [============================>.] - ETA: 0s - loss: 1.0351e-05 - acc: 1.0000\n",
            "Epoch 00085: val_loss did not improve from 0.00000\n",
            "228/228 [==============================] - 1s 3ms/step - loss: 1.0679e-05 - acc: 1.0000 - val_loss: 3.8437e-05 - val_acc: 1.0000\n",
            "Epoch 86/100\n",
            "208/228 [==========================>...] - ETA: 0s - loss: 4.9087e-05 - acc: 1.0000\n",
            "Epoch 00086: val_loss did not improve from 0.00000\n",
            "228/228 [==============================] - 1s 3ms/step - loss: 4.5491e-05 - acc: 1.0000 - val_loss: 6.8789e-06 - val_acc: 1.0000\n",
            "Epoch 87/100\n",
            "225/228 [============================>.] - ETA: 0s - loss: 1.3625e-05 - acc: 1.0000\n",
            "Epoch 00087: val_loss did not improve from 0.00000\n",
            "228/228 [==============================] - 1s 3ms/step - loss: 1.3602e-05 - acc: 1.0000 - val_loss: 1.7675e-05 - val_acc: 1.0000\n",
            "Epoch 88/100\n",
            "211/228 [==========================>...] - ETA: 0s - loss: 7.2643e-06 - acc: 1.0000\n",
            "Epoch 00088: val_loss did not improve from 0.00000\n",
            "228/228 [==============================] - 1s 3ms/step - loss: 6.8392e-06 - acc: 1.0000 - val_loss: 1.2391e-06 - val_acc: 1.0000\n",
            "Epoch 89/100\n",
            "219/228 [===========================>..] - ETA: 0s - loss: 2.7126e-06 - acc: 1.0000\n",
            "Epoch 00089: val_loss did not improve from 0.00000\n",
            "228/228 [==============================] - 1s 3ms/step - loss: 2.8268e-06 - acc: 1.0000 - val_loss: 6.1947e-06 - val_acc: 1.0000\n",
            "Epoch 90/100\n",
            "224/228 [============================>.] - ETA: 0s - loss: 4.8161e-05 - acc: 1.0000\n",
            "Epoch 00090: val_loss did not improve from 0.00000\n",
            "228/228 [==============================] - 1s 3ms/step - loss: 4.7741e-05 - acc: 1.0000 - val_loss: 1.5871e-05 - val_acc: 1.0000\n",
            "Epoch 91/100\n",
            "217/228 [===========================>..] - ETA: 0s - loss: 8.1721e-06 - acc: 1.0000\n",
            "Epoch 00091: val_loss did not improve from 0.00000\n",
            "228/228 [==============================] - 1s 3ms/step - loss: 7.9139e-06 - acc: 1.0000 - val_loss: 2.4898e-06 - val_acc: 1.0000\n",
            "Epoch 92/100\n",
            "213/228 [===========================>..] - ETA: 0s - loss: 1.4357e-05 - acc: 1.0000\n",
            "Epoch 00092: val_loss did not improve from 0.00000\n",
            "228/228 [==============================] - 1s 3ms/step - loss: 1.5576e-05 - acc: 1.0000 - val_loss: 3.3259e-05 - val_acc: 1.0000\n",
            "Epoch 93/100\n",
            "225/228 [============================>.] - ETA: 0s - loss: 3.5751e-05 - acc: 1.0000\n",
            "Epoch 00093: val_loss did not improve from 0.00000\n",
            "228/228 [==============================] - 1s 3ms/step - loss: 3.5435e-05 - acc: 1.0000 - val_loss: 1.6692e-06 - val_acc: 1.0000\n",
            "Epoch 94/100\n",
            "228/228 [==============================] - ETA: 0s - loss: 7.2766e-07 - acc: 1.0000\n",
            "Epoch 00094: val_loss did not improve from 0.00000\n",
            "228/228 [==============================] - 1s 3ms/step - loss: 7.2766e-07 - acc: 1.0000 - val_loss: 1.5039e-07 - val_acc: 1.0000\n",
            "Epoch 95/100\n",
            "219/228 [===========================>..] - ETA: 0s - loss: 4.9329e-08 - acc: 1.0000\n",
            "Epoch 00095: val_loss improved from 0.00000 to 0.00000, saving model to /content/denrypt_1.2.h5\n",
            "228/228 [==============================] - 1s 4ms/step - loss: 4.8345e-08 - acc: 1.0000 - val_loss: 2.7717e-08 - val_acc: 1.0000\n",
            "Epoch 96/100\n",
            "224/228 [============================>.] - ETA: 0s - loss: 1.3090e-07 - acc: 1.0000\n",
            "Epoch 00096: val_loss did not improve from 0.00000\n",
            "228/228 [==============================] - 1s 4ms/step - loss: 1.3815e-07 - acc: 1.0000 - val_loss: 9.3723e-07 - val_acc: 1.0000\n",
            "Epoch 97/100\n",
            "223/228 [============================>.] - ETA: 0s - loss: 6.1645e-05 - acc: 1.0000\n",
            "Epoch 00097: val_loss did not improve from 0.00000\n",
            "228/228 [==============================] - 1s 3ms/step - loss: 6.0993e-05 - acc: 1.0000 - val_loss: 2.3741e-05 - val_acc: 1.0000\n",
            "Epoch 98/100\n",
            "218/228 [===========================>..] - ETA: 0s - loss: 9.2500e-06 - acc: 1.0000\n",
            "Epoch 00098: val_loss did not improve from 0.00000\n",
            "228/228 [==============================] - 1s 3ms/step - loss: 8.9227e-06 - acc: 1.0000 - val_loss: 1.0026e-06 - val_acc: 1.0000\n",
            "Epoch 99/100\n",
            "214/228 [===========================>..] - ETA: 0s - loss: 6.4335e-07 - acc: 1.0000\n",
            "Epoch 00099: val_loss did not improve from 0.00000\n",
            "228/228 [==============================] - 1s 3ms/step - loss: 6.2023e-07 - acc: 1.0000 - val_loss: 3.5751e-07 - val_acc: 1.0000\n",
            "Epoch 100/100\n",
            "227/228 [============================>.] - ETA: 0s - loss: 5.8560e-07 - acc: 1.0000\n",
            "Epoch 00100: val_loss did not improve from 0.00000\n",
            "228/228 [==============================] - 1s 4ms/step - loss: 5.8541e-07 - acc: 1.0000 - val_loss: 6.1886e-07 - val_acc: 1.0000\n"
          ],
          "name": "stdout"
        }
      ]
    },
    {
      "cell_type": "code",
      "metadata": {
        "id": "IF6YSSSHYmtx"
      },
      "source": [
        "decrypted_text = decrypter.predict(decrypter_X_train)"
      ],
      "execution_count": null,
      "outputs": []
    },
    {
      "cell_type": "code",
      "metadata": {
        "id": "7yVF08xCbtFJ"
      },
      "source": [
        "decrypted_int_text = change_output(decrypted_text)"
      ],
      "execution_count": null,
      "outputs": []
    },
    {
      "cell_type": "code",
      "metadata": {
        "id": "XZQgOIfDY6pp",
        "colab": {
          "base_uri": "https://localhost:8080/"
        },
        "outputId": "35cd1607-8f3c-44ac-ca86-aa2c7e0fb05d"
      },
      "source": [
        "print(decrypted_text[0])"
      ],
      "execution_count": null,
      "outputs": [
        {
          "output_type": "stream",
          "text": [
            "[0. 0. 0. 0. 0. 0. 0. 0. 0. 0. 0. 0. 0. 0. 0. 0. 0. 0. 0. 0. 0. 0. 0. 0.\n",
            " 0. 0. 0. 0. 0. 0. 0. 0. 0. 0. 0. 0. 0. 0. 0. 0. 0. 0. 0. 0. 0. 0. 0. 0.\n",
            " 0. 0. 0. 0. 0. 0. 0. 0. 0. 0. 0. 0. 0. 0. 0. 0. 0. 0. 1. 0. 0. 0. 0. 0.\n",
            " 0. 0. 0. 0. 0. 0. 0. 0. 0. 0. 0. 0. 0. 0. 0. 0. 0. 0. 0.]\n"
          ],
          "name": "stdout"
        }
      ]
    },
    {
      "cell_type": "code",
      "metadata": {
        "id": "12YIpy4zhQds",
        "colab": {
          "base_uri": "https://localhost:8080/"
        },
        "outputId": "fc6f4fea-f4c2-4ca5-8e62-44701497eab2"
      },
      "source": [
        "print(decrypted_int_text[0])"
      ],
      "execution_count": null,
      "outputs": [
        {
          "output_type": "stream",
          "text": [
            "[0. 0. 0. 0. 0. 0. 0. 0. 0. 0. 0. 0. 0. 0. 0. 0. 0. 0. 0. 0. 0. 0. 0. 0.\n",
            " 0. 0. 0. 0. 0. 0. 0. 0. 0. 0. 0. 0. 0. 0. 0. 0. 0. 0. 0. 0. 0. 0. 0. 0.\n",
            " 0. 0. 0. 0. 0. 0. 0. 0. 0. 0. 0. 0. 0. 0. 0. 0. 0. 0. 1. 0. 0. 0. 0. 0.\n",
            " 0. 0. 0. 0. 0. 0. 0. 0. 0. 0. 0. 0. 0. 0. 0. 0. 0. 0. 0.]\n"
          ],
          "name": "stdout"
        }
      ]
    },
    {
      "cell_type": "code",
      "metadata": {
        "id": "3TagmGzNgf-A",
        "colab": {
          "base_uri": "https://localhost:8080/"
        },
        "outputId": "f810b4c7-cade-427d-8432-52842e100e25"
      },
      "source": [
        "print(decrypter_Y_train[0])"
      ],
      "execution_count": null,
      "outputs": [
        {
          "output_type": "stream",
          "text": [
            "[0. 0. 0. 0. 0. 0. 0. 0. 0. 0. 0. 0. 0. 0. 0. 0. 0. 0. 0. 0. 0. 0. 0. 0.\n",
            " 0. 0. 0. 0. 0. 0. 0. 0. 0. 0. 0. 0. 0. 0. 0. 0. 0. 0. 0. 0. 0. 0. 0. 0.\n",
            " 0. 0. 0. 0. 0. 0. 0. 0. 0. 0. 0. 0. 0. 0. 0. 0. 0. 0. 1. 0. 0. 0. 0. 0.\n",
            " 0. 0. 0. 0. 0. 0. 0. 0. 0. 0. 0. 0. 0. 0. 0. 0. 0. 0. 0.]\n"
          ],
          "name": "stdout"
        }
      ]
    },
    {
      "cell_type": "code",
      "metadata": {
        "id": "PBGt8kz9cm-3",
        "colab": {
          "base_uri": "https://localhost:8080/"
        },
        "outputId": "fe436a5e-4937-45be-ca40-f207fb0afcf2"
      },
      "source": [
        "print(np.argmax(decrypted_text[0]))"
      ],
      "execution_count": null,
      "outputs": [
        {
          "output_type": "stream",
          "text": [
            "66\n"
          ],
          "name": "stdout"
        }
      ]
    },
    {
      "cell_type": "code",
      "metadata": {
        "id": "mOv3Lse_cqTF",
        "colab": {
          "base_uri": "https://localhost:8080/"
        },
        "outputId": "c7bcb5d1-7664-4015-f310-eb958bb5b92f"
      },
      "source": [
        "print(np.argmax(decrypter_Y_train[0]))"
      ],
      "execution_count": null,
      "outputs": [
        {
          "output_type": "stream",
          "text": [
            "66\n"
          ],
          "name": "stdout"
        }
      ]
    },
    {
      "cell_type": "code",
      "metadata": {
        "id": "uUeBDUDqgxWK",
        "colab": {
          "base_uri": "https://localhost:8080/"
        },
        "outputId": "e3e35b18-3cc4-4719-a57e-ccf75e8e3f0a"
      },
      "source": [
        "print(decrypted_text[1])"
      ],
      "execution_count": null,
      "outputs": [
        {
          "output_type": "stream",
          "text": [
            "[0. 0. 0. 0. 0. 0. 0. 1. 0. 0. 0. 0. 0. 0. 0. 0. 0. 0. 0. 0. 0. 0. 0. 0.\n",
            " 0. 0. 0. 0. 0. 0. 0. 0. 0. 0. 0. 0. 0. 0. 0. 0. 0. 0. 0. 0. 0. 0. 0. 0.\n",
            " 0. 0. 0. 0. 0. 0. 0. 0. 0. 0. 0. 0. 0. 0. 0. 0. 0. 0. 0. 0. 0. 0. 0. 0.\n",
            " 0. 0. 0. 0. 0. 0. 0. 0. 0. 0. 0. 0. 0. 0. 0. 0. 0. 0. 0.]\n"
          ],
          "name": "stdout"
        }
      ]
    },
    {
      "cell_type": "code",
      "metadata": {
        "id": "hUtnWwnohYRd",
        "colab": {
          "base_uri": "https://localhost:8080/"
        },
        "outputId": "d415c9f2-8640-4360-c28d-08f1506c18ce"
      },
      "source": [
        "print(decrypted_int_text[1])"
      ],
      "execution_count": null,
      "outputs": [
        {
          "output_type": "stream",
          "text": [
            "[0. 0. 0. 0. 0. 0. 0. 1. 0. 0. 0. 0. 0. 0. 0. 0. 0. 0. 0. 0. 0. 0. 0. 0.\n",
            " 0. 0. 0. 0. 0. 0. 0. 0. 0. 0. 0. 0. 0. 0. 0. 0. 0. 0. 0. 0. 0. 0. 0. 0.\n",
            " 0. 0. 0. 0. 0. 0. 0. 0. 0. 0. 0. 0. 0. 0. 0. 0. 0. 0. 0. 0. 0. 0. 0. 0.\n",
            " 0. 0. 0. 0. 0. 0. 0. 0. 0. 0. 0. 0. 0. 0. 0. 0. 0. 0. 0.]\n"
          ],
          "name": "stdout"
        }
      ]
    },
    {
      "cell_type": "code",
      "metadata": {
        "id": "XFO2H-Efgtd0",
        "colab": {
          "base_uri": "https://localhost:8080/"
        },
        "outputId": "7c75febd-8dc7-4b6d-ff3b-af72101ccfd0"
      },
      "source": [
        "print(decrypter_Y_train[1])"
      ],
      "execution_count": null,
      "outputs": [
        {
          "output_type": "stream",
          "text": [
            "[0. 0. 0. 0. 0. 0. 0. 1. 0. 0. 0. 0. 0. 0. 0. 0. 0. 0. 0. 0. 0. 0. 0. 0.\n",
            " 0. 0. 0. 0. 0. 0. 0. 0. 0. 0. 0. 0. 0. 0. 0. 0. 0. 0. 0. 0. 0. 0. 0. 0.\n",
            " 0. 0. 0. 0. 0. 0. 0. 0. 0. 0. 0. 0. 0. 0. 0. 0. 0. 0. 0. 0. 0. 0. 0. 0.\n",
            " 0. 0. 0. 0. 0. 0. 0. 0. 0. 0. 0. 0. 0. 0. 0. 0. 0. 0. 0.]\n"
          ],
          "name": "stdout"
        }
      ]
    },
    {
      "cell_type": "code",
      "metadata": {
        "id": "DustfvvNZifM",
        "colab": {
          "base_uri": "https://localhost:8080/"
        },
        "outputId": "758bdbb6-4a91-4ab3-ccfd-ba610b851c67"
      },
      "source": [
        "print(np.argmax(decrypted_text[1]))"
      ],
      "execution_count": null,
      "outputs": [
        {
          "output_type": "stream",
          "text": [
            "7\n"
          ],
          "name": "stdout"
        }
      ]
    },
    {
      "cell_type": "code",
      "metadata": {
        "id": "4XlIEAunaqp0",
        "colab": {
          "base_uri": "https://localhost:8080/"
        },
        "outputId": "fa8c7da5-849a-4d1c-e953-c508ef11c39e"
      },
      "source": [
        "print(np.argmax(decrypter_Y_train[1]))"
      ],
      "execution_count": null,
      "outputs": [
        {
          "output_type": "stream",
          "text": [
            "7\n"
          ],
          "name": "stdout"
        }
      ]
    },
    {
      "cell_type": "code",
      "metadata": {
        "id": "0hmG6OSvhMQ9",
        "colab": {
          "base_uri": "https://localhost:8080/"
        },
        "outputId": "d015e72b-5d8c-4fe4-945f-7dbf7d832191"
      },
      "source": [
        "accuracy(decrypted_int_text, decrypter_Y_train)"
      ],
      "execution_count": null,
      "outputs": [
        {
          "output_type": "stream",
          "text": [
            "Accuracy for the given batch is : 100.0  % \n"
          ],
          "name": "stdout"
        }
      ]
    },
    {
      "cell_type": "code",
      "metadata": {
        "id": "fr20f-ilhj2x"
      },
      "source": [
        "decrypted_Y_test_pred = decrypter.predict(decrypter_X_test)"
      ],
      "execution_count": null,
      "outputs": []
    },
    {
      "cell_type": "code",
      "metadata": {
        "id": "1jV1SYTaBH4-"
      },
      "source": [
        "decrypted_Y_test_pred = change_output(decrypted_Y_test_pred)"
      ],
      "execution_count": null,
      "outputs": []
    },
    {
      "cell_type": "code",
      "metadata": {
        "id": "Zo-1V_q7CA_H",
        "colab": {
          "base_uri": "https://localhost:8080/"
        },
        "outputId": "360996df-8956-4c7a-b4b2-23ae9a32a1a5"
      },
      "source": [
        "accuracy(decrypted_Y_test_pred, decrypter_Y_test)"
      ],
      "execution_count": null,
      "outputs": [
        {
          "output_type": "stream",
          "text": [
            "Accuracy for the given batch is : 100.0  % \n"
          ],
          "name": "stdout"
        }
      ]
    },
    {
      "cell_type": "code",
      "metadata": {
        "id": "bEwrOfRJdTQh",
        "colab": {
          "base_uri": "https://localhost:8080/"
        },
        "outputId": "16074b05-e1b7-4c0f-f245-8e5de3658071"
      },
      "source": [
        "# serialize model to JSON\n",
        "model_json = decrypter.to_json()\n",
        "with open(\"decrypter_v1_2_1.json\", \"w\") as json_file:\n",
        "    json_file.write(model_json)\n",
        "# serialize weights to HDF5\n",
        "decrypter.save_weights(\"decrypter_v1_2_1.h5\")\n",
        "print(\"Saved model to disk\")"
      ],
      "execution_count": null,
      "outputs": [
        {
          "output_type": "stream",
          "text": [
            "Saved model to disk\n"
          ],
          "name": "stdout"
        }
      ]
    },
    {
      "cell_type": "code",
      "metadata": {
        "id": "h1gHq2z93Df6",
        "colab": {
          "base_uri": "https://localhost:8080/",
          "height": 35
        },
        "outputId": "2974709d-6669-4d9b-b847-1099978447f0"
      },
      "source": [
        "# load json and create model\n",
        "json_file = open('/content/decrypter_v1_2_1.json', 'r')\n",
        "loaded_model_json = json_file.read()\n",
        "json_file.close()\n",
        "loaded_model = model_from_json(loaded_model_json)\n",
        "# load weights into new model\n",
        "loaded_model.load_weights(\"/content/decrypter_v1_2_1.h5\")\n",
        "print(\"Loaded model from disk\")"
      ],
      "execution_count": null,
      "outputs": [
        {
          "output_type": "stream",
          "text": [
            "Loaded model from disk\n"
          ],
          "name": "stdout"
        }
      ]
    },
    {
      "cell_type": "code",
      "metadata": {
        "id": "F4sPlsHN_a4I",
        "colab": {
          "base_uri": "https://localhost:8080/",
          "height": 35
        },
        "outputId": "9cb2db33-ad5a-4b5c-d048-a59323534e7a"
      },
      "source": [
        "print(\"Decrypter can be loaded and run\")"
      ],
      "execution_count": null,
      "outputs": [
        {
          "output_type": "stream",
          "text": [
            "Decrypter can be loaded and run\n"
          ],
          "name": "stdout"
        }
      ]
    },
    {
      "cell_type": "code",
      "metadata": {
        "id": "QNy1H8d4_vlO"
      },
      "source": [
        ""
      ],
      "execution_count": null,
      "outputs": []
    }
  ]
}